{
 "cells": [
  {
   "cell_type": "markdown",
   "id": "386f2ae7",
   "metadata": {
    "deletable": false,
    "editable": false,
    "id": "386f2ae7"
   },
   "source": [
    "# Исследование надежности заемщиков\n"
   ]
  },
  {
   "cell_type": "markdown",
   "id": "ffe86f65",
   "metadata": {
    "deletable": false,
    "editable": false,
    "id": "ffe86f65"
   },
   "source": [
    "Во второй части проекта вы выполните шаги 3 и 4. Их вручную проверит ревьюер.\n",
    "Чтобы вам не пришлось писать код заново для шагов 1 и 2, мы добавили авторские решения в ячейки с кодом. \n",
    "\n"
   ]
  },
  {
   "cell_type": "markdown",
   "id": "26613308",
   "metadata": {
    "deletable": false,
    "editable": false,
    "id": "26613308"
   },
   "source": [
    "## Откройте таблицу и изучите общую информацию о данных"
   ]
  },
  {
   "cell_type": "markdown",
   "id": "3c9f838e",
   "metadata": {
    "deletable": false,
    "editable": false,
    "id": "3c9f838e"
   },
   "source": [
    "**Задание 1. Импортируйте библиотеку pandas. Считайте данные из csv-файла в датафрейм и сохраните в переменную `data`. Путь к файлу:**\n",
    "\n",
    "`/datasets/data.csv`"
   ]
  },
  {
   "cell_type": "code",
   "execution_count": 2,
   "id": "77a68a90",
   "metadata": {
    "deletable": false,
    "id": "77a68a90"
   },
   "outputs": [],
   "source": [
    "import pandas as pd\n",
    "\n",
    "try:\n",
    "    data = pd.read_csv('/datasets/data.csv')\n",
    "except:\n",
    "    data = pd.read_csv('https://code.s3.yandex.net/datasets/data.csv')"
   ]
  },
  {
   "cell_type": "markdown",
   "id": "45365635",
   "metadata": {
    "deletable": false,
    "editable": false,
    "id": "45365635"
   },
   "source": [
    "**Задание 2. Выведите первые 20 строчек датафрейма `data` на экран.**"
   ]
  },
  {
   "cell_type": "code",
   "execution_count": 3,
   "id": "b0451a9a",
   "metadata": {
    "deletable": false,
    "id": "b0451a9a",
    "outputId": "1a8f3ef2-d323-4ec2-ddf7-89670b5944c4"
   },
   "outputs": [
    {
     "data": {
      "text/html": [
       "<div>\n",
       "<style scoped>\n",
       "    .dataframe tbody tr th:only-of-type {\n",
       "        vertical-align: middle;\n",
       "    }\n",
       "\n",
       "    .dataframe tbody tr th {\n",
       "        vertical-align: top;\n",
       "    }\n",
       "\n",
       "    .dataframe thead th {\n",
       "        text-align: right;\n",
       "    }\n",
       "</style>\n",
       "<table border=\"1\" class=\"dataframe\">\n",
       "  <thead>\n",
       "    <tr style=\"text-align: right;\">\n",
       "      <th></th>\n",
       "      <th>children</th>\n",
       "      <th>days_employed</th>\n",
       "      <th>dob_years</th>\n",
       "      <th>education</th>\n",
       "      <th>education_id</th>\n",
       "      <th>family_status</th>\n",
       "      <th>family_status_id</th>\n",
       "      <th>gender</th>\n",
       "      <th>income_type</th>\n",
       "      <th>debt</th>\n",
       "      <th>total_income</th>\n",
       "      <th>purpose</th>\n",
       "    </tr>\n",
       "  </thead>\n",
       "  <tbody>\n",
       "    <tr>\n",
       "      <th>0</th>\n",
       "      <td>1</td>\n",
       "      <td>-8437.673028</td>\n",
       "      <td>42</td>\n",
       "      <td>высшее</td>\n",
       "      <td>0</td>\n",
       "      <td>женат / замужем</td>\n",
       "      <td>0</td>\n",
       "      <td>F</td>\n",
       "      <td>сотрудник</td>\n",
       "      <td>0</td>\n",
       "      <td>253875.639453</td>\n",
       "      <td>покупка жилья</td>\n",
       "    </tr>\n",
       "    <tr>\n",
       "      <th>1</th>\n",
       "      <td>1</td>\n",
       "      <td>-4024.803754</td>\n",
       "      <td>36</td>\n",
       "      <td>среднее</td>\n",
       "      <td>1</td>\n",
       "      <td>женат / замужем</td>\n",
       "      <td>0</td>\n",
       "      <td>F</td>\n",
       "      <td>сотрудник</td>\n",
       "      <td>0</td>\n",
       "      <td>112080.014102</td>\n",
       "      <td>приобретение автомобиля</td>\n",
       "    </tr>\n",
       "    <tr>\n",
       "      <th>2</th>\n",
       "      <td>0</td>\n",
       "      <td>-5623.422610</td>\n",
       "      <td>33</td>\n",
       "      <td>Среднее</td>\n",
       "      <td>1</td>\n",
       "      <td>женат / замужем</td>\n",
       "      <td>0</td>\n",
       "      <td>M</td>\n",
       "      <td>сотрудник</td>\n",
       "      <td>0</td>\n",
       "      <td>145885.952297</td>\n",
       "      <td>покупка жилья</td>\n",
       "    </tr>\n",
       "    <tr>\n",
       "      <th>3</th>\n",
       "      <td>3</td>\n",
       "      <td>-4124.747207</td>\n",
       "      <td>32</td>\n",
       "      <td>среднее</td>\n",
       "      <td>1</td>\n",
       "      <td>женат / замужем</td>\n",
       "      <td>0</td>\n",
       "      <td>M</td>\n",
       "      <td>сотрудник</td>\n",
       "      <td>0</td>\n",
       "      <td>267628.550329</td>\n",
       "      <td>дополнительное образование</td>\n",
       "    </tr>\n",
       "    <tr>\n",
       "      <th>4</th>\n",
       "      <td>0</td>\n",
       "      <td>340266.072047</td>\n",
       "      <td>53</td>\n",
       "      <td>среднее</td>\n",
       "      <td>1</td>\n",
       "      <td>гражданский брак</td>\n",
       "      <td>1</td>\n",
       "      <td>F</td>\n",
       "      <td>пенсионер</td>\n",
       "      <td>0</td>\n",
       "      <td>158616.077870</td>\n",
       "      <td>сыграть свадьбу</td>\n",
       "    </tr>\n",
       "    <tr>\n",
       "      <th>5</th>\n",
       "      <td>0</td>\n",
       "      <td>-926.185831</td>\n",
       "      <td>27</td>\n",
       "      <td>высшее</td>\n",
       "      <td>0</td>\n",
       "      <td>гражданский брак</td>\n",
       "      <td>1</td>\n",
       "      <td>M</td>\n",
       "      <td>компаньон</td>\n",
       "      <td>0</td>\n",
       "      <td>255763.565419</td>\n",
       "      <td>покупка жилья</td>\n",
       "    </tr>\n",
       "    <tr>\n",
       "      <th>6</th>\n",
       "      <td>0</td>\n",
       "      <td>-2879.202052</td>\n",
       "      <td>43</td>\n",
       "      <td>высшее</td>\n",
       "      <td>0</td>\n",
       "      <td>женат / замужем</td>\n",
       "      <td>0</td>\n",
       "      <td>F</td>\n",
       "      <td>компаньон</td>\n",
       "      <td>0</td>\n",
       "      <td>240525.971920</td>\n",
       "      <td>операции с жильем</td>\n",
       "    </tr>\n",
       "    <tr>\n",
       "      <th>7</th>\n",
       "      <td>0</td>\n",
       "      <td>-152.779569</td>\n",
       "      <td>50</td>\n",
       "      <td>СРЕДНЕЕ</td>\n",
       "      <td>1</td>\n",
       "      <td>женат / замужем</td>\n",
       "      <td>0</td>\n",
       "      <td>M</td>\n",
       "      <td>сотрудник</td>\n",
       "      <td>0</td>\n",
       "      <td>135823.934197</td>\n",
       "      <td>образование</td>\n",
       "    </tr>\n",
       "    <tr>\n",
       "      <th>8</th>\n",
       "      <td>2</td>\n",
       "      <td>-6929.865299</td>\n",
       "      <td>35</td>\n",
       "      <td>ВЫСШЕЕ</td>\n",
       "      <td>0</td>\n",
       "      <td>гражданский брак</td>\n",
       "      <td>1</td>\n",
       "      <td>F</td>\n",
       "      <td>сотрудник</td>\n",
       "      <td>0</td>\n",
       "      <td>95856.832424</td>\n",
       "      <td>на проведение свадьбы</td>\n",
       "    </tr>\n",
       "    <tr>\n",
       "      <th>9</th>\n",
       "      <td>0</td>\n",
       "      <td>-2188.756445</td>\n",
       "      <td>41</td>\n",
       "      <td>среднее</td>\n",
       "      <td>1</td>\n",
       "      <td>женат / замужем</td>\n",
       "      <td>0</td>\n",
       "      <td>M</td>\n",
       "      <td>сотрудник</td>\n",
       "      <td>0</td>\n",
       "      <td>144425.938277</td>\n",
       "      <td>покупка жилья для семьи</td>\n",
       "    </tr>\n",
       "    <tr>\n",
       "      <th>10</th>\n",
       "      <td>2</td>\n",
       "      <td>-4171.483647</td>\n",
       "      <td>36</td>\n",
       "      <td>высшее</td>\n",
       "      <td>0</td>\n",
       "      <td>женат / замужем</td>\n",
       "      <td>0</td>\n",
       "      <td>M</td>\n",
       "      <td>компаньон</td>\n",
       "      <td>0</td>\n",
       "      <td>113943.491460</td>\n",
       "      <td>покупка недвижимости</td>\n",
       "    </tr>\n",
       "    <tr>\n",
       "      <th>11</th>\n",
       "      <td>0</td>\n",
       "      <td>-792.701887</td>\n",
       "      <td>40</td>\n",
       "      <td>среднее</td>\n",
       "      <td>1</td>\n",
       "      <td>женат / замужем</td>\n",
       "      <td>0</td>\n",
       "      <td>F</td>\n",
       "      <td>сотрудник</td>\n",
       "      <td>0</td>\n",
       "      <td>77069.234271</td>\n",
       "      <td>покупка коммерческой недвижимости</td>\n",
       "    </tr>\n",
       "    <tr>\n",
       "      <th>12</th>\n",
       "      <td>0</td>\n",
       "      <td>NaN</td>\n",
       "      <td>65</td>\n",
       "      <td>среднее</td>\n",
       "      <td>1</td>\n",
       "      <td>гражданский брак</td>\n",
       "      <td>1</td>\n",
       "      <td>M</td>\n",
       "      <td>пенсионер</td>\n",
       "      <td>0</td>\n",
       "      <td>NaN</td>\n",
       "      <td>сыграть свадьбу</td>\n",
       "    </tr>\n",
       "    <tr>\n",
       "      <th>13</th>\n",
       "      <td>0</td>\n",
       "      <td>-1846.641941</td>\n",
       "      <td>54</td>\n",
       "      <td>неоконченное высшее</td>\n",
       "      <td>2</td>\n",
       "      <td>женат / замужем</td>\n",
       "      <td>0</td>\n",
       "      <td>F</td>\n",
       "      <td>сотрудник</td>\n",
       "      <td>0</td>\n",
       "      <td>130458.228857</td>\n",
       "      <td>приобретение автомобиля</td>\n",
       "    </tr>\n",
       "    <tr>\n",
       "      <th>14</th>\n",
       "      <td>0</td>\n",
       "      <td>-1844.956182</td>\n",
       "      <td>56</td>\n",
       "      <td>высшее</td>\n",
       "      <td>0</td>\n",
       "      <td>гражданский брак</td>\n",
       "      <td>1</td>\n",
       "      <td>F</td>\n",
       "      <td>компаньон</td>\n",
       "      <td>1</td>\n",
       "      <td>165127.911772</td>\n",
       "      <td>покупка жилой недвижимости</td>\n",
       "    </tr>\n",
       "    <tr>\n",
       "      <th>15</th>\n",
       "      <td>1</td>\n",
       "      <td>-972.364419</td>\n",
       "      <td>26</td>\n",
       "      <td>среднее</td>\n",
       "      <td>1</td>\n",
       "      <td>женат / замужем</td>\n",
       "      <td>0</td>\n",
       "      <td>F</td>\n",
       "      <td>сотрудник</td>\n",
       "      <td>0</td>\n",
       "      <td>116820.904450</td>\n",
       "      <td>строительство собственной недвижимости</td>\n",
       "    </tr>\n",
       "    <tr>\n",
       "      <th>16</th>\n",
       "      <td>0</td>\n",
       "      <td>-1719.934226</td>\n",
       "      <td>35</td>\n",
       "      <td>среднее</td>\n",
       "      <td>1</td>\n",
       "      <td>женат / замужем</td>\n",
       "      <td>0</td>\n",
       "      <td>F</td>\n",
       "      <td>сотрудник</td>\n",
       "      <td>0</td>\n",
       "      <td>289202.704229</td>\n",
       "      <td>недвижимость</td>\n",
       "    </tr>\n",
       "    <tr>\n",
       "      <th>17</th>\n",
       "      <td>0</td>\n",
       "      <td>-2369.999720</td>\n",
       "      <td>33</td>\n",
       "      <td>высшее</td>\n",
       "      <td>0</td>\n",
       "      <td>гражданский брак</td>\n",
       "      <td>1</td>\n",
       "      <td>M</td>\n",
       "      <td>сотрудник</td>\n",
       "      <td>0</td>\n",
       "      <td>90410.586745</td>\n",
       "      <td>строительство недвижимости</td>\n",
       "    </tr>\n",
       "    <tr>\n",
       "      <th>18</th>\n",
       "      <td>0</td>\n",
       "      <td>400281.136913</td>\n",
       "      <td>53</td>\n",
       "      <td>среднее</td>\n",
       "      <td>1</td>\n",
       "      <td>вдовец / вдова</td>\n",
       "      <td>2</td>\n",
       "      <td>F</td>\n",
       "      <td>пенсионер</td>\n",
       "      <td>0</td>\n",
       "      <td>56823.777243</td>\n",
       "      <td>на покупку подержанного автомобиля</td>\n",
       "    </tr>\n",
       "    <tr>\n",
       "      <th>19</th>\n",
       "      <td>0</td>\n",
       "      <td>-10038.818549</td>\n",
       "      <td>48</td>\n",
       "      <td>СРЕДНЕЕ</td>\n",
       "      <td>1</td>\n",
       "      <td>в разводе</td>\n",
       "      <td>3</td>\n",
       "      <td>F</td>\n",
       "      <td>сотрудник</td>\n",
       "      <td>0</td>\n",
       "      <td>242831.107982</td>\n",
       "      <td>на покупку своего автомобиля</td>\n",
       "    </tr>\n",
       "  </tbody>\n",
       "</table>\n",
       "</div>"
      ],
      "text/plain": [
       "    children  days_employed  dob_years            education  education_id  \\\n",
       "0          1   -8437.673028         42               высшее             0   \n",
       "1          1   -4024.803754         36              среднее             1   \n",
       "2          0   -5623.422610         33              Среднее             1   \n",
       "3          3   -4124.747207         32              среднее             1   \n",
       "4          0  340266.072047         53              среднее             1   \n",
       "5          0    -926.185831         27               высшее             0   \n",
       "6          0   -2879.202052         43               высшее             0   \n",
       "7          0    -152.779569         50              СРЕДНЕЕ             1   \n",
       "8          2   -6929.865299         35               ВЫСШЕЕ             0   \n",
       "9          0   -2188.756445         41              среднее             1   \n",
       "10         2   -4171.483647         36               высшее             0   \n",
       "11         0    -792.701887         40              среднее             1   \n",
       "12         0            NaN         65              среднее             1   \n",
       "13         0   -1846.641941         54  неоконченное высшее             2   \n",
       "14         0   -1844.956182         56               высшее             0   \n",
       "15         1    -972.364419         26              среднее             1   \n",
       "16         0   -1719.934226         35              среднее             1   \n",
       "17         0   -2369.999720         33               высшее             0   \n",
       "18         0  400281.136913         53              среднее             1   \n",
       "19         0  -10038.818549         48              СРЕДНЕЕ             1   \n",
       "\n",
       "       family_status  family_status_id gender income_type  debt  \\\n",
       "0    женат / замужем                 0      F   сотрудник     0   \n",
       "1    женат / замужем                 0      F   сотрудник     0   \n",
       "2    женат / замужем                 0      M   сотрудник     0   \n",
       "3    женат / замужем                 0      M   сотрудник     0   \n",
       "4   гражданский брак                 1      F   пенсионер     0   \n",
       "5   гражданский брак                 1      M   компаньон     0   \n",
       "6    женат / замужем                 0      F   компаньон     0   \n",
       "7    женат / замужем                 0      M   сотрудник     0   \n",
       "8   гражданский брак                 1      F   сотрудник     0   \n",
       "9    женат / замужем                 0      M   сотрудник     0   \n",
       "10   женат / замужем                 0      M   компаньон     0   \n",
       "11   женат / замужем                 0      F   сотрудник     0   \n",
       "12  гражданский брак                 1      M   пенсионер     0   \n",
       "13   женат / замужем                 0      F   сотрудник     0   \n",
       "14  гражданский брак                 1      F   компаньон     1   \n",
       "15   женат / замужем                 0      F   сотрудник     0   \n",
       "16   женат / замужем                 0      F   сотрудник     0   \n",
       "17  гражданский брак                 1      M   сотрудник     0   \n",
       "18    вдовец / вдова                 2      F   пенсионер     0   \n",
       "19         в разводе                 3      F   сотрудник     0   \n",
       "\n",
       "     total_income                                 purpose  \n",
       "0   253875.639453                           покупка жилья  \n",
       "1   112080.014102                 приобретение автомобиля  \n",
       "2   145885.952297                           покупка жилья  \n",
       "3   267628.550329              дополнительное образование  \n",
       "4   158616.077870                         сыграть свадьбу  \n",
       "5   255763.565419                           покупка жилья  \n",
       "6   240525.971920                       операции с жильем  \n",
       "7   135823.934197                             образование  \n",
       "8    95856.832424                   на проведение свадьбы  \n",
       "9   144425.938277                 покупка жилья для семьи  \n",
       "10  113943.491460                    покупка недвижимости  \n",
       "11   77069.234271       покупка коммерческой недвижимости  \n",
       "12            NaN                         сыграть свадьбу  \n",
       "13  130458.228857                 приобретение автомобиля  \n",
       "14  165127.911772              покупка жилой недвижимости  \n",
       "15  116820.904450  строительство собственной недвижимости  \n",
       "16  289202.704229                            недвижимость  \n",
       "17   90410.586745              строительство недвижимости  \n",
       "18   56823.777243      на покупку подержанного автомобиля  \n",
       "19  242831.107982            на покупку своего автомобиля  "
      ]
     },
     "execution_count": 3,
     "metadata": {},
     "output_type": "execute_result"
    }
   ],
   "source": [
    "data.head(20)"
   ]
  },
  {
   "cell_type": "markdown",
   "id": "0ed8f27f",
   "metadata": {
    "deletable": false,
    "editable": false,
    "id": "0ed8f27f"
   },
   "source": [
    "**Задание 3. Выведите основную информацию о датафрейме с помощью метода `info()`.**"
   ]
  },
  {
   "cell_type": "code",
   "execution_count": 4,
   "id": "ab3f863b",
   "metadata": {
    "deletable": false,
    "id": "ab3f863b",
    "outputId": "15376089-8dad-46c9-b520-c05248d43158"
   },
   "outputs": [
    {
     "name": "stdout",
     "output_type": "stream",
     "text": [
      "<class 'pandas.core.frame.DataFrame'>\n",
      "RangeIndex: 21525 entries, 0 to 21524\n",
      "Data columns (total 12 columns):\n",
      " #   Column            Non-Null Count  Dtype  \n",
      "---  ------            --------------  -----  \n",
      " 0   children          21525 non-null  int64  \n",
      " 1   days_employed     19351 non-null  float64\n",
      " 2   dob_years         21525 non-null  int64  \n",
      " 3   education         21525 non-null  object \n",
      " 4   education_id      21525 non-null  int64  \n",
      " 5   family_status     21525 non-null  object \n",
      " 6   family_status_id  21525 non-null  int64  \n",
      " 7   gender            21525 non-null  object \n",
      " 8   income_type       21525 non-null  object \n",
      " 9   debt              21525 non-null  int64  \n",
      " 10  total_income      19351 non-null  float64\n",
      " 11  purpose           21525 non-null  object \n",
      "dtypes: float64(2), int64(5), object(5)\n",
      "memory usage: 2.0+ MB\n"
     ]
    }
   ],
   "source": [
    "data.info()"
   ]
  },
  {
   "cell_type": "markdown",
   "id": "60e3e22d",
   "metadata": {
    "deletable": false,
    "editable": false,
    "id": "60e3e22d"
   },
   "source": [
    "## Предобработка данных"
   ]
  },
  {
   "cell_type": "markdown",
   "id": "03dc170c",
   "metadata": {
    "deletable": false,
    "editable": false,
    "id": "03dc170c"
   },
   "source": [
    "### Удаление пропусков"
   ]
  },
  {
   "cell_type": "markdown",
   "id": "a4f54eef",
   "metadata": {
    "deletable": false,
    "editable": false,
    "id": "a4f54eef"
   },
   "source": [
    "**Задание 4. Выведите количество пропущенных значений для каждого столбца. Используйте комбинацию двух методов.**"
   ]
  },
  {
   "cell_type": "code",
   "execution_count": 5,
   "id": "2dc372b2",
   "metadata": {
    "deletable": false,
    "id": "2dc372b2",
    "outputId": "81f4d817-781c-465c-ed15-91ce4446810d"
   },
   "outputs": [
    {
     "data": {
      "text/plain": [
       "children               0\n",
       "days_employed       2174\n",
       "dob_years              0\n",
       "education              0\n",
       "education_id           0\n",
       "family_status          0\n",
       "family_status_id       0\n",
       "gender                 0\n",
       "income_type            0\n",
       "debt                   0\n",
       "total_income        2174\n",
       "purpose                0\n",
       "dtype: int64"
      ]
     },
     "execution_count": 5,
     "metadata": {},
     "output_type": "execute_result"
    }
   ],
   "source": [
    "data.isna().sum()"
   ]
  },
  {
   "cell_type": "markdown",
   "id": "14f011b1",
   "metadata": {
    "deletable": false,
    "editable": false,
    "id": "14f011b1"
   },
   "source": [
    "**Задание 5. В двух столбцах есть пропущенные значения. Один из них — `days_employed`. Пропуски в этом столбце вы обработаете на следующем этапе. Другой столбец с пропущенными значениями — `total_income` — хранит данные о доходах. На сумму дохода сильнее всего влияет тип занятости, поэтому заполнить пропуски в этом столбце нужно медианным значением по каждому типу из столбца `income_type`. Например, у человека с типом занятости `сотрудник` пропуск в столбце `total_income` должен быть заполнен медианным доходом среди всех записей с тем же типом.**"
   ]
  },
  {
   "cell_type": "code",
   "execution_count": 6,
   "id": "bdabfb6e",
   "metadata": {
    "deletable": false,
    "id": "bdabfb6e"
   },
   "outputs": [],
   "source": [
    "for t in data['income_type'].unique():\n",
    "    data.loc[(data['income_type'] == t) & (data['total_income'].isna()), 'total_income'] = \\\n",
    "    data.loc[(data['income_type'] == t), 'total_income'].median()"
   ]
  },
  {
   "cell_type": "markdown",
   "id": "5be34059",
   "metadata": {
    "deletable": false,
    "editable": false,
    "id": "5be34059"
   },
   "source": [
    "### Обработка аномальных значений"
   ]
  },
  {
   "cell_type": "markdown",
   "id": "a87606cb",
   "metadata": {
    "deletable": false,
    "editable": false,
    "id": "a87606cb"
   },
   "source": [
    "**Задание 6. В данных могут встречаться артефакты (аномалии) — значения, которые не отражают действительность и появились по какой-то ошибке. таким артефактом будет отрицательное количество дней трудового стажа в столбце `days_employed`. Для реальных данных это нормально. Обработайте значения в этом столбце: замените все отрицательные значения положительными с помощью метода `abs()`.**"
   ]
  },
  {
   "cell_type": "code",
   "execution_count": 7,
   "id": "020c46cc",
   "metadata": {
    "deletable": false,
    "id": "020c46cc"
   },
   "outputs": [],
   "source": [
    "data['days_employed'] = data['days_employed'].abs()"
   ]
  },
  {
   "cell_type": "markdown",
   "id": "45538a3a",
   "metadata": {
    "deletable": false,
    "editable": false,
    "id": "45538a3a"
   },
   "source": [
    "**Задание 7. Для каждого типа занятости выведите медианное значение трудового стажа `days_employed` в днях.**"
   ]
  },
  {
   "cell_type": "code",
   "execution_count": 8,
   "id": "cd3e6328",
   "metadata": {
    "deletable": false,
    "id": "cd3e6328",
    "outputId": "801ef80e-522b-4668-f34e-565af7432bcf"
   },
   "outputs": [
    {
     "data": {
      "text/plain": [
       "income_type\n",
       "безработный        366413.652744\n",
       "в декрете            3296.759962\n",
       "госслужащий          2689.368353\n",
       "компаньон            1547.382223\n",
       "пенсионер          365213.306266\n",
       "предприниматель       520.848083\n",
       "сотрудник            1574.202821\n",
       "студент               578.751554\n",
       "Name: days_employed, dtype: float64"
      ]
     },
     "execution_count": 8,
     "metadata": {},
     "output_type": "execute_result"
    }
   ],
   "source": [
    "data.groupby('income_type')['days_employed'].agg('median')"
   ]
  },
  {
   "cell_type": "markdown",
   "id": "90c5f058",
   "metadata": {
    "deletable": false,
    "editable": false,
    "id": "90c5f058"
   },
   "source": [
    "У двух типов (безработные и пенсионеры) получатся аномально большие значения. Исправить такие значения сложно, поэтому оставьте их как есть."
   ]
  },
  {
   "cell_type": "markdown",
   "id": "9652e50d",
   "metadata": {
    "deletable": false,
    "editable": false,
    "id": "9652e50d"
   },
   "source": [
    "**Задание 8. Выведите перечень уникальных значений столбца `children`.**"
   ]
  },
  {
   "cell_type": "code",
   "execution_count": 9,
   "id": "dbb37b8e",
   "metadata": {
    "deletable": false,
    "id": "dbb37b8e",
    "outputId": "6975b15c-7f95-4697-d16d-a0c79b657b03"
   },
   "outputs": [
    {
     "data": {
      "text/plain": [
       "array([ 1,  0,  3,  2, -1,  4, 20,  5])"
      ]
     },
     "execution_count": 9,
     "metadata": {},
     "output_type": "execute_result"
    }
   ],
   "source": [
    "data['children'].unique()"
   ]
  },
  {
   "cell_type": "markdown",
   "id": "2b8b0715",
   "metadata": {
    "deletable": false,
    "editable": false,
    "id": "2b8b0715"
   },
   "source": [
    "**Задание 9. В столбце `children` есть два аномальных значения. Удалите строки, в которых встречаются такие аномальные значения из датафрейма `data`.**"
   ]
  },
  {
   "cell_type": "code",
   "execution_count": 10,
   "id": "20009df8",
   "metadata": {
    "deletable": false,
    "id": "20009df8"
   },
   "outputs": [],
   "source": [
    "data = data[(data['children'] != -1) & (data['children'] != 20)]"
   ]
  },
  {
   "cell_type": "markdown",
   "id": "8c6ac9f1",
   "metadata": {
    "deletable": false,
    "editable": false,
    "id": "8c6ac9f1"
   },
   "source": [
    "**Задание 10. Ещё раз выведите перечень уникальных значений столбца `children`, чтобы убедиться, что артефакты удалены.**"
   ]
  },
  {
   "cell_type": "code",
   "execution_count": 11,
   "id": "07337b81",
   "metadata": {
    "deletable": false,
    "id": "07337b81",
    "outputId": "b2097101-d49d-44d9-901b-32a65c9463d1"
   },
   "outputs": [
    {
     "data": {
      "text/plain": [
       "array([1, 0, 3, 2, 4, 5])"
      ]
     },
     "execution_count": 11,
     "metadata": {},
     "output_type": "execute_result"
    }
   ],
   "source": [
    "data['children'].unique()"
   ]
  },
  {
   "cell_type": "markdown",
   "id": "ee3f52d4",
   "metadata": {
    "deletable": false,
    "editable": false,
    "id": "ee3f52d4"
   },
   "source": [
    "### Удаление пропусков (продолжение)"
   ]
  },
  {
   "cell_type": "markdown",
   "id": "a700b0e4",
   "metadata": {
    "deletable": false,
    "editable": false,
    "id": "a700b0e4"
   },
   "source": [
    "**Задание 11. Заполните пропуски в столбце `days_employed` медианными значениями по каждого типа занятости `income_type`.**"
   ]
  },
  {
   "cell_type": "code",
   "execution_count": 12,
   "id": "61946b83",
   "metadata": {
    "deletable": false,
    "id": "61946b83"
   },
   "outputs": [],
   "source": [
    "for t in data['income_type'].unique():\n",
    "    data.loc[(data['income_type'] == t) & (data['days_employed'].isna()), 'days_employed'] = \\\n",
    "    data.loc[(data['income_type'] == t), 'days_employed'].median()"
   ]
  },
  {
   "cell_type": "markdown",
   "id": "550dcd9b",
   "metadata": {
    "deletable": false,
    "editable": false,
    "id": "550dcd9b"
   },
   "source": [
    "**Задание 12. Убедитесь, что все пропуски заполнены. Проверьте себя и ещё раз выведите количество пропущенных значений для каждого столбца с помощью двух методов.**"
   ]
  },
  {
   "cell_type": "code",
   "execution_count": 13,
   "id": "937c7014",
   "metadata": {
    "deletable": false,
    "id": "937c7014",
    "outputId": "8da1e4e1-358e-4e87-98c9-f261bce0a7b2"
   },
   "outputs": [
    {
     "data": {
      "text/plain": [
       "children            0\n",
       "days_employed       0\n",
       "dob_years           0\n",
       "education           0\n",
       "education_id        0\n",
       "family_status       0\n",
       "family_status_id    0\n",
       "gender              0\n",
       "income_type         0\n",
       "debt                0\n",
       "total_income        0\n",
       "purpose             0\n",
       "dtype: int64"
      ]
     },
     "execution_count": 13,
     "metadata": {},
     "output_type": "execute_result"
    }
   ],
   "source": [
    "data.isna().sum()"
   ]
  },
  {
   "cell_type": "markdown",
   "id": "d522e295",
   "metadata": {
    "deletable": false,
    "editable": false,
    "id": "d522e295"
   },
   "source": [
    "### Изменение типов данных"
   ]
  },
  {
   "cell_type": "markdown",
   "id": "c229c581",
   "metadata": {
    "deletable": false,
    "editable": false,
    "id": "c229c581"
   },
   "source": [
    "**Задание 13. Замените вещественный тип данных в столбце `total_income` на целочисленный с помощью метода `astype()`.**"
   ]
  },
  {
   "cell_type": "code",
   "execution_count": 14,
   "id": "31036462",
   "metadata": {
    "deletable": false,
    "id": "31036462"
   },
   "outputs": [],
   "source": [
    "data['total_income'] = data['total_income'].astype(int)"
   ]
  },
  {
   "cell_type": "markdown",
   "id": "b8e3d1d9",
   "metadata": {
    "deletable": false,
    "editable": false,
    "id": "b8e3d1d9"
   },
   "source": [
    "### Обработка дубликатов"
   ]
  },
  {
   "cell_type": "markdown",
   "id": "9be53c49",
   "metadata": {
    "deletable": false,
    "editable": false,
    "id": "9be53c49"
   },
   "source": [
    "**Задание 14. Обработайте неявные дубликаты в столбце `education`. В этом столбце есть одни и те же значения, но записанные по-разному: с использованием заглавных и строчных букв. Приведите их к нижнему регистру.**"
   ]
  },
  {
   "cell_type": "code",
   "execution_count": 15,
   "id": "d89e73e1",
   "metadata": {
    "deletable": false,
    "id": "d89e73e1"
   },
   "outputs": [],
   "source": [
    "data['education'] = data['education'].str.lower()"
   ]
  },
  {
   "cell_type": "markdown",
   "id": "01d4500e",
   "metadata": {
    "deletable": false,
    "editable": false,
    "id": "01d4500e"
   },
   "source": [
    "**Задание 15. Выведите на экран количество строк-дубликатов в данных. Если такие строки присутствуют, удалите их.**"
   ]
  },
  {
   "cell_type": "code",
   "execution_count": 16,
   "id": "e10efb23",
   "metadata": {
    "deletable": false,
    "id": "e10efb23",
    "outputId": "9684deba-1934-42d1-99e1-cda61740f822"
   },
   "outputs": [
    {
     "data": {
      "text/plain": [
       "71"
      ]
     },
     "execution_count": 16,
     "metadata": {},
     "output_type": "execute_result"
    }
   ],
   "source": [
    "data.duplicated().sum()"
   ]
  },
  {
   "cell_type": "code",
   "execution_count": 17,
   "id": "df853f20",
   "metadata": {
    "deletable": false,
    "id": "df853f20"
   },
   "outputs": [],
   "source": [
    "data = data.drop_duplicates()"
   ]
  },
  {
   "cell_type": "markdown",
   "id": "627be38f",
   "metadata": {
    "deletable": false,
    "editable": false,
    "id": "627be38f"
   },
   "source": [
    "### Категоризация данных"
   ]
  },
  {
   "cell_type": "markdown",
   "id": "4684c3e0",
   "metadata": {
    "deletable": false,
    "editable": false,
    "id": "4684c3e0"
   },
   "source": [
    "**Задание 16. На основании диапазонов, указанных ниже, создайте в датафрейме `data` столбец `total_income_category` с категориями:**\n",
    "\n",
    "- 0–30000 — `'E'`;\n",
    "- 30001–50000 — `'D'`;\n",
    "- 50001–200000 — `'C'`;\n",
    "- 200001–1000000 — `'B'`;\n",
    "- 1000001 и выше — `'A'`.\n",
    "\n",
    "\n",
    "**Например, кредитополучателю с доходом 25000 нужно назначить категорию `'E'`, а клиенту, получающему 235000, — `'B'`. Используйте собственную функцию с именем `categorize_income()` и метод `apply()`.**"
   ]
  },
  {
   "cell_type": "code",
   "execution_count": 18,
   "id": "78965238",
   "metadata": {
    "deletable": false,
    "id": "78965238"
   },
   "outputs": [],
   "source": [
    "def categorize_income(income):\n",
    "    try:\n",
    "        if 0 <= income <= 30000:\n",
    "            return 'E'\n",
    "        elif 30001 <= income <= 50000:\n",
    "            return 'D'\n",
    "        elif 50001 <= income <= 200000:\n",
    "            return 'C'\n",
    "        elif 200001 <= income <= 1000000:\n",
    "            return 'B'\n",
    "        elif income >= 1000001:\n",
    "            return 'A'\n",
    "    except:\n",
    "        pass"
   ]
  },
  {
   "cell_type": "code",
   "execution_count": 19,
   "id": "0980ada1",
   "metadata": {
    "deletable": false,
    "id": "0980ada1"
   },
   "outputs": [],
   "source": [
    "data['total_income_category'] = data['total_income'].apply(categorize_income)"
   ]
  },
  {
   "cell_type": "markdown",
   "id": "9917bba0",
   "metadata": {
    "deletable": false,
    "editable": false,
    "id": "9917bba0"
   },
   "source": [
    "**Задание 17. Выведите на экран перечень уникальных целей взятия кредита из столбца `purpose`.**"
   ]
  },
  {
   "cell_type": "code",
   "execution_count": 20,
   "id": "ee07b65e",
   "metadata": {
    "deletable": false,
    "id": "ee07b65e",
    "outputId": "673c12d9-7d7e-4ae0-9812-c622c89dd244"
   },
   "outputs": [
    {
     "data": {
      "text/plain": [
       "array(['покупка жилья', 'приобретение автомобиля',\n",
       "       'дополнительное образование', 'сыграть свадьбу',\n",
       "       'операции с жильем', 'образование', 'на проведение свадьбы',\n",
       "       'покупка жилья для семьи', 'покупка недвижимости',\n",
       "       'покупка коммерческой недвижимости', 'покупка жилой недвижимости',\n",
       "       'строительство собственной недвижимости', 'недвижимость',\n",
       "       'строительство недвижимости', 'на покупку подержанного автомобиля',\n",
       "       'на покупку своего автомобиля',\n",
       "       'операции с коммерческой недвижимостью',\n",
       "       'строительство жилой недвижимости', 'жилье',\n",
       "       'операции со своей недвижимостью', 'автомобили',\n",
       "       'заняться образованием', 'сделка с подержанным автомобилем',\n",
       "       'получение образования', 'автомобиль', 'свадьба',\n",
       "       'получение дополнительного образования', 'покупка своего жилья',\n",
       "       'операции с недвижимостью', 'получение высшего образования',\n",
       "       'свой автомобиль', 'сделка с автомобилем',\n",
       "       'профильное образование', 'высшее образование',\n",
       "       'покупка жилья для сдачи', 'на покупку автомобиля', 'ремонт жилью',\n",
       "       'заняться высшим образованием'], dtype=object)"
      ]
     },
     "execution_count": 20,
     "metadata": {},
     "output_type": "execute_result"
    }
   ],
   "source": [
    "data['purpose'].unique()"
   ]
  },
  {
   "cell_type": "markdown",
   "id": "52b79d56",
   "metadata": {
    "deletable": false,
    "editable": false,
    "id": "52b79d56"
   },
   "source": [
    "**Задание 18. Создайте функцию, которая на основании данных из столбца `purpose` сформирует новый столбец `purpose_category`, в который войдут следующие категории:**\n",
    "\n",
    "- `'операции с автомобилем'`,\n",
    "- `'операции с недвижимостью'`,\n",
    "- `'проведение свадьбы'`,\n",
    "- `'получение образования'`.\n",
    "\n",
    "**Например, если в столбце `purpose` находится подстрока `'на покупку автомобиля'`, то в столбце `purpose_category` должна появиться строка `'операции с автомобилем'`.**\n",
    "\n",
    "**Используйте собственную функцию с именем `categorize_purpose()` и метод `apply()`. Изучите данные в столбце `purpose` и определите, какие подстроки помогут вам правильно определить категорию.**"
   ]
  },
  {
   "cell_type": "code",
   "execution_count": 21,
   "id": "be41da5d",
   "metadata": {
    "deletable": false,
    "id": "be41da5d"
   },
   "outputs": [],
   "source": [
    "def categorize_purpose(row):\n",
    "    try:\n",
    "        if 'автом' in row:\n",
    "            return 'операции с автомобилем'\n",
    "        elif 'жил' in row or 'недвиж' in row:\n",
    "            return 'операции с недвижимостью'\n",
    "        elif 'свад' in row:\n",
    "            return 'проведение свадьбы'\n",
    "        elif 'образов' in row:\n",
    "            return 'получение образования'\n",
    "    except:\n",
    "        return 'нет категории'"
   ]
  },
  {
   "cell_type": "code",
   "execution_count": 22,
   "id": "94c4a19a",
   "metadata": {
    "deletable": false,
    "id": "94c4a19a"
   },
   "outputs": [],
   "source": [
    "data['purpose_category'] = data['purpose'].apply(categorize_purpose)"
   ]
  },
  {
   "cell_type": "markdown",
   "id": "3d596c34",
   "metadata": {
    "deletable": false,
    "editable": false,
    "id": "3d596c34"
   },
   "source": [
    "### Шаг 3. Исследуйте данные и ответьте на вопросы"
   ]
  },
  {
   "cell_type": "markdown",
   "id": "648db036",
   "metadata": {
    "deletable": false,
    "editable": false,
    "id": "648db036"
   },
   "source": [
    "#### 3.1 Есть ли зависимость между количеством детей и возвратом кредита в срок?"
   ]
  },
  {
   "cell_type": "markdown",
   "id": "a026b91a",
   "metadata": {},
   "source": [
    "Для того что бы это выяснить, нам надо найти и сравнить доли должников среди тех у кого есть дети и у кого их нет."
   ]
  },
  {
   "cell_type": "code",
   "execution_count": 23,
   "id": "8633c1ab",
   "metadata": {},
   "outputs": [],
   "source": [
    "debtors = data.pivot_table(index='children', values ='debt', aggfunc=['count','sum','mean']) #создаем сводную таблицу, где будут отображены дети и сумма, количество и среднее количество должников\n",
    "debtors.columns = ['count_debt','sum_debt','mean_debt'] # переименовываем столбцы для удобства\n",
    "debtors['mean_debt'] = (debtors['mean_debt'] * 100).round(1) # переводим значения в проценты и округляем до одного знака после запятой"
   ]
  },
  {
   "cell_type": "code",
   "execution_count": 24,
   "id": "7fcff25e",
   "metadata": {
    "deletable": false,
    "id": "7fcff25e",
    "scrolled": true
   },
   "outputs": [
    {
     "data": {
      "text/html": [
       "<div>\n",
       "<style scoped>\n",
       "    .dataframe tbody tr th:only-of-type {\n",
       "        vertical-align: middle;\n",
       "    }\n",
       "\n",
       "    .dataframe tbody tr th {\n",
       "        vertical-align: top;\n",
       "    }\n",
       "\n",
       "    .dataframe thead th {\n",
       "        text-align: right;\n",
       "    }\n",
       "</style>\n",
       "<table border=\"1\" class=\"dataframe\">\n",
       "  <thead>\n",
       "    <tr style=\"text-align: right;\">\n",
       "      <th></th>\n",
       "      <th>children</th>\n",
       "      <th>count_debt</th>\n",
       "      <th>sum_debt</th>\n",
       "      <th>mean_debt</th>\n",
       "    </tr>\n",
       "  </thead>\n",
       "  <tbody>\n",
       "    <tr>\n",
       "      <th>0</th>\n",
       "      <td>0</td>\n",
       "      <td>14091</td>\n",
       "      <td>1063</td>\n",
       "      <td>7.5</td>\n",
       "    </tr>\n",
       "    <tr>\n",
       "      <th>1</th>\n",
       "      <td>1</td>\n",
       "      <td>4808</td>\n",
       "      <td>444</td>\n",
       "      <td>9.2</td>\n",
       "    </tr>\n",
       "    <tr>\n",
       "      <th>2</th>\n",
       "      <td>2</td>\n",
       "      <td>2052</td>\n",
       "      <td>194</td>\n",
       "      <td>9.5</td>\n",
       "    </tr>\n",
       "    <tr>\n",
       "      <th>3</th>\n",
       "      <td>3</td>\n",
       "      <td>330</td>\n",
       "      <td>27</td>\n",
       "      <td>8.2</td>\n",
       "    </tr>\n",
       "    <tr>\n",
       "      <th>4</th>\n",
       "      <td>4</td>\n",
       "      <td>41</td>\n",
       "      <td>4</td>\n",
       "      <td>9.8</td>\n",
       "    </tr>\n",
       "    <tr>\n",
       "      <th>5</th>\n",
       "      <td>5</td>\n",
       "      <td>9</td>\n",
       "      <td>0</td>\n",
       "      <td>0.0</td>\n",
       "    </tr>\n",
       "  </tbody>\n",
       "</table>\n",
       "</div>"
      ],
      "text/plain": [
       "   children  count_debt  sum_debt  mean_debt\n",
       "0         0       14091      1063        7.5\n",
       "1         1        4808       444        9.2\n",
       "2         2        2052       194        9.5\n",
       "3         3         330        27        8.2\n",
       "4         4          41         4        9.8\n",
       "5         5           9         0        0.0"
      ]
     },
     "execution_count": 24,
     "metadata": {},
     "output_type": "execute_result"
    }
   ],
   "source": [
    "debtors.reset_index()\n",
    "# выводим таблицу на экран, для красоты обнуляем индексы"
   ]
  },
  {
   "cell_type": "markdown",
   "id": "2eb9088e",
   "metadata": {
    "deletable": false,
    "id": "2eb9088e"
   },
   "source": [
    "**Вывод:** \n",
    "Наличие детей влияет на выплату кредита в срок. Проведя анализ, мы выяснили что клиенты не имеющие детей, попадают в категорию должников в 7.5% случаев, а клиенты с 1-2 детьми в 9.2-9.5% случаях.\n",
    "Скорее всего, это связано с дополнительными и непредвиденными расходами на детей."
   ]
  },
  {
   "cell_type": "markdown",
   "id": "74c9b3a7",
   "metadata": {
    "deletable": false,
    "editable": false,
    "id": "74c9b3a7"
   },
   "source": [
    "#### 3.2 Есть ли зависимость между семейным положением и возвратом кредита в срок?"
   ]
  },
  {
   "cell_type": "code",
   "execution_count": 25,
   "id": "8098ab3b",
   "metadata": {
    "deletable": false,
    "id": "8098ab3b",
    "scrolled": true
   },
   "outputs": [
    {
     "data": {
      "text/plain": [
       "array(['женат / замужем', 'гражданский брак', 'вдовец / вдова',\n",
       "       'в разводе', 'Не женат / не замужем'], dtype=object)"
      ]
     },
     "execution_count": 25,
     "metadata": {},
     "output_type": "execute_result"
    }
   ],
   "source": [
    "data['family_status'].unique() #узнаем какие значения есть в этом столбце, понимаем что их  можно разделить на 2 категории:\"в браке\",\"одиноки\""
   ]
  },
  {
   "cell_type": "code",
   "execution_count": 26,
   "id": "6ba18d3b",
   "metadata": {},
   "outputs": [],
   "source": [
    "i = data['family_status']\n",
    "def family_category(i):\n",
    "    if 'женат / замужем' in i or 'гражданский брак' in i:\n",
    "        return 'в браке'\n",
    "    else:\n",
    "        return 'одиноки'\n",
    "\n",
    "data['family_category'] = data['family_status'].apply(family_category)\n"
   ]
  },
  {
   "cell_type": "code",
   "execution_count": 27,
   "id": "9c883b1c",
   "metadata": {},
   "outputs": [],
   "source": [
    "debtors_family = data.pivot_table(index='family_category', values ='debt', aggfunc=['count','sum','mean']) #создаем сводную таблицу, где будут отображены дети и сумма, количество и среднее количество должников\n",
    "debtors_family.columns = ['count_debt','sum_debt','mean_debt'] # переименовываем столбцы для удобства\n",
    "debtors_family['mean_debt'] = (debtors_family['mean_debt'] * 100).round(1)"
   ]
  },
  {
   "cell_type": "code",
   "execution_count": 28,
   "id": "08621cb5",
   "metadata": {},
   "outputs": [
    {
     "data": {
      "text/html": [
       "<div>\n",
       "<style scoped>\n",
       "    .dataframe tbody tr th:only-of-type {\n",
       "        vertical-align: middle;\n",
       "    }\n",
       "\n",
       "    .dataframe tbody tr th {\n",
       "        vertical-align: top;\n",
       "    }\n",
       "\n",
       "    .dataframe thead th {\n",
       "        text-align: right;\n",
       "    }\n",
       "</style>\n",
       "<table border=\"1\" class=\"dataframe\">\n",
       "  <thead>\n",
       "    <tr style=\"text-align: right;\">\n",
       "      <th></th>\n",
       "      <th>family_category</th>\n",
       "      <th>count_debt</th>\n",
       "      <th>sum_debt</th>\n",
       "      <th>mean_debt</th>\n",
       "    </tr>\n",
       "  </thead>\n",
       "  <tbody>\n",
       "    <tr>\n",
       "      <th>0</th>\n",
       "      <td>в браке</td>\n",
       "      <td>16395</td>\n",
       "      <td>1312</td>\n",
       "      <td>8.0</td>\n",
       "    </tr>\n",
       "    <tr>\n",
       "      <th>1</th>\n",
       "      <td>одиноки</td>\n",
       "      <td>4936</td>\n",
       "      <td>420</td>\n",
       "      <td>8.5</td>\n",
       "    </tr>\n",
       "  </tbody>\n",
       "</table>\n",
       "</div>"
      ],
      "text/plain": [
       "  family_category  count_debt  sum_debt  mean_debt\n",
       "0         в браке       16395      1312        8.0\n",
       "1         одиноки        4936       420        8.5"
      ]
     },
     "execution_count": 28,
     "metadata": {},
     "output_type": "execute_result"
    }
   ],
   "source": [
    "debtors_family.reset_index()"
   ]
  },
  {
   "cell_type": "markdown",
   "id": "c389ca63",
   "metadata": {
    "deletable": false,
    "id": "c389ca63"
   },
   "source": [
    "**Вывод:** Для более точных выводов мы создали таблицу из двух категорий \"в браке\" и \"одиноки\". По этой таблице мы видим, что семейное положение влияет на возврат кредита в срок. Люди состоящие в браке или сожители(я так понимаю, что здесь под гражданским браком понимается сожительство) на 0.5% чаще выплачивают кредит в срок, чем одинокие люди.\n",
    "Скорее всего, это связано с тем, что в семьях кредит выплачивают оба супруга/сожителя."
   ]
  },
  {
   "cell_type": "markdown",
   "id": "9529de68",
   "metadata": {
    "deletable": false,
    "editable": false,
    "id": "9529de68"
   },
   "source": [
    "#### 3.3 Есть ли зависимость между уровнем дохода и возвратом кредита в срок?"
   ]
  },
  {
   "cell_type": "markdown",
   "id": "26be7614",
   "metadata": {},
   "source": [
    "В данном случае, мы проводим те же манипуляции, что и прошлых двух заданиях, то есть создадим сводную таблицу и высчитаем среднее арифметическое. \n",
    "До этого мы разделили доходы на разные категории 'E' - самый низкий уровень дохода, 'A' - самый высокий.\n",
    "0–30000 — 'E';\n",
    "30001–50000 — 'D';\n",
    "50001–200000 — 'C';\n",
    "200001–1000000 — 'B';\n",
    "1000001 и выше — 'A'."
   ]
  },
  {
   "cell_type": "code",
   "execution_count": 29,
   "id": "207e3b3e",
   "metadata": {},
   "outputs": [
    {
     "data": {
      "text/plain": [
       "total_income_category\n",
       "A       25\n",
       "B     5014\n",
       "C    15921\n",
       "D      349\n",
       "E       22\n",
       "Name: debt, dtype: int64"
      ]
     },
     "execution_count": 29,
     "metadata": {},
     "output_type": "execute_result"
    }
   ],
   "source": [
    "data.groupby('total_income_category')['debt'].count()"
   ]
  },
  {
   "cell_type": "markdown",
   "id": "28e28b5a",
   "metadata": {
    "deletable": false,
    "id": "8787f44a"
   },
   "source": [
    "Мы видим, что в категориях А,D,Е мало информации для каких-либо выводов, поэтому создадим три категории: низкий доход, средний доход и высокий доход."
   ]
  },
  {
   "cell_type": "code",
   "execution_count": 30,
   "id": "0c16f3b8",
   "metadata": {},
   "outputs": [],
   "source": [
    "i = data['total_income_category']\n",
    "def income_category(i):\n",
    "    if 'E' in i or 'D' in i:\n",
    "        return 'низкий доход'\n",
    "    elif 'C' in i:\n",
    "        return 'средний доход'\n",
    "    else:\n",
    "        return 'высокий доход'\n",
    "\n",
    "data['income_category'] = data['total_income_category'].apply(income_category)"
   ]
  },
  {
   "cell_type": "code",
   "execution_count": 40,
   "id": "8121969a",
   "metadata": {},
   "outputs": [],
   "source": [
    "income_debtors = data.pivot_table(index='income_category', values ='debt', aggfunc=['count','sum','mean']) #создаем сводную таблицу, где будут отображены дети и сумма, количество и среднее количество должников\n",
    "income_debtors.columns = ['count_debt','sum_debt','mean_debt'] # переименовываем столбцы для удобства\n",
    "income_debtors['mean_debt'] = (income_debtors['mean_debt'] * 100).round(1)"
   ]
  },
  {
   "cell_type": "code",
   "execution_count": 39,
   "id": "d320eadc",
   "metadata": {},
   "outputs": [
    {
     "data": {
      "text/html": [
       "<div>\n",
       "<style scoped>\n",
       "    .dataframe tbody tr th:only-of-type {\n",
       "        vertical-align: middle;\n",
       "    }\n",
       "\n",
       "    .dataframe tbody tr th {\n",
       "        vertical-align: top;\n",
       "    }\n",
       "\n",
       "    .dataframe thead th {\n",
       "        text-align: right;\n",
       "    }\n",
       "</style>\n",
       "<table border=\"1\" class=\"dataframe\">\n",
       "  <thead>\n",
       "    <tr style=\"text-align: right;\">\n",
       "      <th></th>\n",
       "      <th>income_category</th>\n",
       "      <th>debt</th>\n",
       "    </tr>\n",
       "  </thead>\n",
       "  <tbody>\n",
       "    <tr>\n",
       "      <th>0</th>\n",
       "      <td>высокий доход</td>\n",
       "      <td>0.070649</td>\n",
       "    </tr>\n",
       "    <tr>\n",
       "      <th>1</th>\n",
       "      <td>низкий доход</td>\n",
       "      <td>0.061995</td>\n",
       "    </tr>\n",
       "    <tr>\n",
       "      <th>2</th>\n",
       "      <td>средний доход</td>\n",
       "      <td>0.084982</td>\n",
       "    </tr>\n",
       "  </tbody>\n",
       "</table>\n",
       "</div>"
      ],
      "text/plain": [
       "  income_category      debt\n",
       "0   высокий доход  0.070649\n",
       "1    низкий доход  0.061995\n",
       "2   средний доход  0.084982"
      ]
     },
     "execution_count": 39,
     "metadata": {},
     "output_type": "execute_result"
    }
   ],
   "source": [
    "income_debtors.reset_index()"
   ]
  },
  {
   "cell_type": "markdown",
   "id": "6dd14b57",
   "metadata": {
    "deletable": false,
    "id": "6dd14b57"
   },
   "source": [
    "**Вывод:** Как мы видимо по таблице, клиенты с низким уровнем дохода реже всех становятся должниками,возможно это связано с тем, что им нечем выплачивать проценты за просрочку кредита. А клиенты со средним доходом чаще всех становятся должниками, но их и значительно больше, чем людей с низким и высоким доходом."
   ]
  },
  {
   "cell_type": "markdown",
   "id": "1dcc9b12",
   "metadata": {
    "deletable": false,
    "editable": false,
    "id": "1dcc9b12"
   },
   "source": [
    "#### 3.4 Как разные цели кредита влияют на его возврат в срок?"
   ]
  },
  {
   "cell_type": "code",
   "execution_count": 62,
   "id": "c602bc8b",
   "metadata": {
    "deletable": false,
    "id": "c602bc8b"
   },
   "outputs": [],
   "source": [
    "goals_debtors = data.pivot_table(index='purpose_category', values ='debt', aggfunc=['count','sum','mean']) #создаем сводную таблицу, где будут отображены дети и сумма, количество и среднее количество должников\n",
    "goals_debtors.columns = ['count_debt','sum_debt','mean_debt'] # переименовываем столбцы для удобства\n",
    "goals_debtors['mean_debt'] = (goals_debtors['mean_debt'] * 100).round(1)"
   ]
  },
  {
   "cell_type": "code",
   "execution_count": 63,
   "id": "d87701bf",
   "metadata": {},
   "outputs": [
    {
     "data": {
      "text/html": [
       "<div>\n",
       "<style scoped>\n",
       "    .dataframe tbody tr th:only-of-type {\n",
       "        vertical-align: middle;\n",
       "    }\n",
       "\n",
       "    .dataframe tbody tr th {\n",
       "        vertical-align: top;\n",
       "    }\n",
       "\n",
       "    .dataframe thead th {\n",
       "        text-align: right;\n",
       "    }\n",
       "</style>\n",
       "<table border=\"1\" class=\"dataframe\">\n",
       "  <thead>\n",
       "    <tr style=\"text-align: right;\">\n",
       "      <th></th>\n",
       "      <th>purpose_category</th>\n",
       "      <th>count_debt</th>\n",
       "      <th>sum_debt</th>\n",
       "      <th>mean_debt</th>\n",
       "    </tr>\n",
       "  </thead>\n",
       "  <tbody>\n",
       "    <tr>\n",
       "      <th>0</th>\n",
       "      <td>операции с автомобилем</td>\n",
       "      <td>4279</td>\n",
       "      <td>400</td>\n",
       "      <td>9.3</td>\n",
       "    </tr>\n",
       "    <tr>\n",
       "      <th>1</th>\n",
       "      <td>операции с недвижимостью</td>\n",
       "      <td>10751</td>\n",
       "      <td>780</td>\n",
       "      <td>7.3</td>\n",
       "    </tr>\n",
       "    <tr>\n",
       "      <th>2</th>\n",
       "      <td>получение образования</td>\n",
       "      <td>3988</td>\n",
       "      <td>369</td>\n",
       "      <td>9.3</td>\n",
       "    </tr>\n",
       "    <tr>\n",
       "      <th>3</th>\n",
       "      <td>проведение свадьбы</td>\n",
       "      <td>2313</td>\n",
       "      <td>183</td>\n",
       "      <td>7.9</td>\n",
       "    </tr>\n",
       "  </tbody>\n",
       "</table>\n",
       "</div>"
      ],
      "text/plain": [
       "           purpose_category  count_debt  sum_debt  mean_debt\n",
       "0    операции с автомобилем        4279       400        9.3\n",
       "1  операции с недвижимостью       10751       780        7.3\n",
       "2     получение образования        3988       369        9.3\n",
       "3        проведение свадьбы        2313       183        7.9"
      ]
     },
     "execution_count": 63,
     "metadata": {},
     "output_type": "execute_result"
    }
   ],
   "source": [
    "goals_debtors.reset_index()"
   ]
  },
  {
   "cell_type": "markdown",
   "id": "cf05ed63",
   "metadata": {
    "deletable": false,
    "id": "cf05ed63"
   },
   "source": [
    "**Вывод:** Чаще отдают кредит в срок те клиенты, что взяли кредит на недвижимость,скорее всего это связано  тем,что ипотеку дают клиентам с подходящим возрастом, достаточными официальным доходом и стажем работы. На втором месте те кто взял кредит на свадьбу. Должниками становятся те, кто брал кредит на образование или автомобиль, в одинаковой степени."
   ]
  },
  {
   "cell_type": "markdown",
   "id": "46c1f10b",
   "metadata": {
    "deletable": false,
    "editable": false,
    "id": "46c1f10b"
   },
   "source": [
    "#### 3.5 Приведите возможные причины появления пропусков в исходных данных."
   ]
  },
  {
   "cell_type": "markdown",
   "id": "3697d2a9",
   "metadata": {
    "deletable": false,
    "id": "3697d2a9"
   },
   "source": [
    "*Ответ:* Пропуски могли возникнуть из-за технических ошибок, при переносе данных, например. Или в случаях,когда человек не заполнил данные о себе, в связи с чем возник пропуск."
   ]
  },
  {
   "cell_type": "markdown",
   "id": "3137d257",
   "metadata": {
    "deletable": false,
    "editable": false,
    "id": "3137d257"
   },
   "source": [
    "#### 3.6 Объясните, почему заполнить пропуски медианным значением — лучшее решение для количественных переменных."
   ]
  },
  {
   "cell_type": "markdown",
   "id": "cf40012a",
   "metadata": {
    "deletable": false,
    "id": "cf40012a"
   },
   "source": [
    "*Ответ:* Потому что если в данных будет переменная сильноотличающаяся от других, то она сильно повлияет на среднее значение и вывды будут неверны. Поэтому лучше заменить пропуски медианным значением"
   ]
  },
  {
   "cell_type": "markdown",
   "id": "57bc304e",
   "metadata": {
    "deletable": false,
    "editable": false,
    "id": "57bc304e"
   },
   "source": [
    "### Шаг 4: общий вывод."
   ]
  },
  {
   "cell_type": "markdown",
   "id": "1ab75d1c",
   "metadata": {
    "deletable": false,
    "id": "1ab75d1c"
   },
   "source": [
    "Мы выполнили исследование надежности заемщиков.\n",
    "Какие выводы получили:\n",
    "* **Существует зависимость между количеством детей и возвратом кредита в срок**  <br/>\n",
    "Если 1-2 ребенка вероятность стать должниками 9.2% - 9.5%, если 3 ребенка этот процент падает до 8.2%, для 4 детей у нас маленькая выборка, сложно делать выводы. **Самые надежные заемщики - клиенты без детей**\n",
    "---\n",
    "* **Семейное положение также влияет на возврат кредита в срок**<br/>\n",
    "Разделив всех клиентов только на 2 группы \"в браке\" и \"одиноки\", и проанализировав их, мы можем сделать вывод, что одинокие люди на 0.5% чаще становятся должниками, то есть **клиенты в отношениях чаще отдают кредит в срок**\n",
    "---\n",
    "* **Уровень дохода влияет на возврат кредита в срок**<br/>\n",
    "Клиенты с низким уровнем дохода не имеют возможности опатить проценты за просрочку кредита и скорее всего не совершают импульсивных покупок, поэтому должниками становятся 6.2% *на 2.3% реже чем люди со средним уровнем дохода*, клиенты с высоким уровнем дохода становятся должниками в 7.1% случаев, думаю что высокий доход связан с рисками, отсюда и просрочки. Клиенты со средним уровнем дохода самые ненадежные заемщики, поскольку во-первых их больше всего, во-вторых им чаще свойственны необдуманные покупки, а также другие факторы(потеря работы,болезнь), должниками в этом случае становятся 8.5%             **Самые надежные заемщики люди с низким и высоким доходом**\n",
    "---\n",
    "* **Цель кредита влияет на его возврат в срок**<br/>\n",
    "Если человек берет кредит на автомобиль или образование, то вероятность того что он просрочит кредит состовляет 9.3%, скорее всего это связано с тем, что такие кредиты дают без особой проверки заемщика. Люди взявшие кредит на свадьбу становятся должниками в 7.9% случаев, а **самые надежные заемщики те, кто берет ипотеку**,для того что бы получить кредит на недвижимость надо соотвествовать некторым стандартам, иметь подходящий возраст, доход и стаж работы.\n",
    "---\n",
    "**Самый надежный заемщик**:\n",
    "без детей, в отношениях, с низким/высоким уровнем дохода, обращается в банк за ипотекой или кредитом на свадьбу.\n",
    "\n"
   ]
  }
 ],
 "metadata": {
  "ExecuteTimeLog": [
   {
    "duration": 724,
    "start_time": "2023-02-28T14:41:48.471Z"
   },
   {
    "duration": 37,
    "start_time": "2023-02-28T14:41:49.198Z"
   },
   {
    "duration": 27,
    "start_time": "2023-02-28T14:41:49.330Z"
   },
   {
    "duration": 17,
    "start_time": "2023-02-28T14:41:50.095Z"
   },
   {
    "duration": 55,
    "start_time": "2023-02-28T14:41:50.484Z"
   },
   {
    "duration": 5,
    "start_time": "2023-02-28T14:41:51.081Z"
   },
   {
    "duration": 14,
    "start_time": "2023-02-28T14:41:51.495Z"
   },
   {
    "duration": 13,
    "start_time": "2023-02-28T14:41:52.127Z"
   },
   {
    "duration": 13,
    "start_time": "2023-02-28T14:41:52.536Z"
   },
   {
    "duration": 10,
    "start_time": "2023-02-28T14:41:52.963Z"
   },
   {
    "duration": 66,
    "start_time": "2023-02-28T14:41:53.595Z"
   },
   {
    "duration": 22,
    "start_time": "2023-02-28T14:41:53.999Z"
   },
   {
    "duration": 9,
    "start_time": "2023-02-28T14:41:54.671Z"
   },
   {
    "duration": 20,
    "start_time": "2023-02-28T14:41:55.288Z"
   },
   {
    "duration": 33,
    "start_time": "2023-02-28T14:41:55.761Z"
   },
   {
    "duration": 27,
    "start_time": "2023-02-28T14:41:55.968Z"
   },
   {
    "duration": 5,
    "start_time": "2023-02-28T14:41:56.620Z"
   },
   {
    "duration": 20,
    "start_time": "2023-02-28T14:41:56.861Z"
   },
   {
    "duration": 10,
    "start_time": "2023-02-28T14:41:57.293Z"
   },
   {
    "duration": 5,
    "start_time": "2023-02-28T14:41:57.900Z"
   },
   {
    "duration": 16,
    "start_time": "2023-02-28T14:41:57.961Z"
   },
   {
    "duration": 4,
    "start_time": "2023-02-28T14:41:58.571Z"
   },
   {
    "duration": 7,
    "start_time": "2023-02-28T14:41:59.233Z"
   },
   {
    "duration": 124,
    "start_time": "2023-02-28T14:48:19.802Z"
   },
   {
    "duration": 3,
    "start_time": "2023-02-28T14:48:27.359Z"
   },
   {
    "duration": 7,
    "start_time": "2023-02-28T14:48:47.628Z"
   },
   {
    "duration": 6,
    "start_time": "2023-02-28T14:49:05.921Z"
   },
   {
    "duration": 7,
    "start_time": "2023-02-28T14:49:17.802Z"
   },
   {
    "duration": 8,
    "start_time": "2023-02-28T14:49:33.549Z"
   },
   {
    "duration": 8,
    "start_time": "2023-02-28T14:53:21.783Z"
   },
   {
    "duration": 18,
    "start_time": "2023-02-28T14:54:14.355Z"
   },
   {
    "duration": 10,
    "start_time": "2023-02-28T14:54:33.152Z"
   },
   {
    "duration": 10,
    "start_time": "2023-02-28T14:54:49.249Z"
   },
   {
    "duration": 19,
    "start_time": "2023-02-28T14:54:56.588Z"
   },
   {
    "duration": 5,
    "start_time": "2023-02-28T14:55:06.125Z"
   },
   {
    "duration": 9,
    "start_time": "2023-02-28T14:56:39.859Z"
   },
   {
    "duration": 30,
    "start_time": "2023-02-28T15:05:03.520Z"
   },
   {
    "duration": 58,
    "start_time": "2023-02-28T15:05:48.557Z"
   },
   {
    "duration": 19,
    "start_time": "2023-02-28T15:10:36.685Z"
   },
   {
    "duration": 4,
    "start_time": "2023-02-28T15:11:45.248Z"
   },
   {
    "duration": 5,
    "start_time": "2023-02-28T15:11:50.620Z"
   },
   {
    "duration": 49,
    "start_time": "2023-02-28T15:20:51.953Z"
   },
   {
    "duration": 66,
    "start_time": "2023-02-28T15:21:28.795Z"
   },
   {
    "duration": 11,
    "start_time": "2023-02-28T15:21:54.096Z"
   },
   {
    "duration": 17,
    "start_time": "2023-02-28T15:22:01.865Z"
   },
   {
    "duration": 9,
    "start_time": "2023-02-28T15:22:07.991Z"
   },
   {
    "duration": 54,
    "start_time": "2023-02-28T15:22:24.365Z"
   },
   {
    "duration": 12,
    "start_time": "2023-02-28T15:22:41.483Z"
   },
   {
    "duration": 9,
    "start_time": "2023-02-28T15:23:09.671Z"
   },
   {
    "duration": 10,
    "start_time": "2023-02-28T15:23:28.203Z"
   },
   {
    "duration": 5,
    "start_time": "2023-02-28T15:23:49.581Z"
   },
   {
    "duration": 11,
    "start_time": "2023-02-28T15:23:54.205Z"
   },
   {
    "duration": 60,
    "start_time": "2023-02-28T15:24:47.212Z"
   },
   {
    "duration": 5,
    "start_time": "2023-02-28T15:25:06.901Z"
   },
   {
    "duration": 8,
    "start_time": "2023-02-28T15:25:20.415Z"
   },
   {
    "duration": 12,
    "start_time": "2023-02-28T15:25:29.043Z"
   },
   {
    "duration": 9,
    "start_time": "2023-02-28T15:25:39.246Z"
   },
   {
    "duration": 13,
    "start_time": "2023-02-28T15:25:58.842Z"
   },
   {
    "duration": 10,
    "start_time": "2023-02-28T15:26:06.100Z"
   },
   {
    "duration": 17,
    "start_time": "2023-02-28T15:26:28.115Z"
   },
   {
    "duration": 10,
    "start_time": "2023-02-28T15:28:36.700Z"
   },
   {
    "duration": 11,
    "start_time": "2023-02-28T15:28:55.050Z"
   },
   {
    "duration": 10,
    "start_time": "2023-02-28T15:29:02.014Z"
   },
   {
    "duration": 16,
    "start_time": "2023-02-28T15:38:38.050Z"
   },
   {
    "duration": 16,
    "start_time": "2023-02-28T15:39:34.455Z"
   },
   {
    "duration": 24,
    "start_time": "2023-02-28T15:42:22.753Z"
   },
   {
    "duration": 23,
    "start_time": "2023-02-28T15:42:41.704Z"
   },
   {
    "duration": 873,
    "start_time": "2023-02-28T15:50:23.953Z"
   },
   {
    "duration": 4,
    "start_time": "2023-02-28T15:50:33.685Z"
   },
   {
    "duration": 4,
    "start_time": "2023-02-28T15:55:58.328Z"
   },
   {
    "duration": 238,
    "start_time": "2023-02-28T15:56:47.464Z"
   },
   {
    "duration": 19,
    "start_time": "2023-02-28T15:57:05.390Z"
   },
   {
    "duration": 216,
    "start_time": "2023-02-28T15:57:10.947Z"
   },
   {
    "duration": 227,
    "start_time": "2023-02-28T15:58:40.058Z"
   },
   {
    "duration": 858,
    "start_time": "2023-02-28T15:59:06.213Z"
   },
   {
    "duration": 201,
    "start_time": "2023-02-28T15:59:59.618Z"
   },
   {
    "duration": 4,
    "start_time": "2023-02-28T16:00:35.716Z"
   },
   {
    "duration": 7,
    "start_time": "2023-02-28T16:00:36.586Z"
   },
   {
    "duration": 9,
    "start_time": "2023-02-28T16:01:28.217Z"
   },
   {
    "duration": 7,
    "start_time": "2023-02-28T16:01:30.043Z"
   },
   {
    "duration": 5,
    "start_time": "2023-02-28T16:01:30.579Z"
   },
   {
    "duration": 7,
    "start_time": "2023-02-28T16:01:31.106Z"
   },
   {
    "duration": 1660,
    "start_time": "2023-02-28T16:02:53.151Z"
   },
   {
    "duration": 1879,
    "start_time": "2023-02-28T16:03:17.088Z"
   },
   {
    "duration": 1674,
    "start_time": "2023-02-28T16:03:22.673Z"
   },
   {
    "duration": 26,
    "start_time": "2023-02-28T16:07:04.410Z"
   },
   {
    "duration": 33,
    "start_time": "2023-02-28T16:07:11.687Z"
   },
   {
    "duration": 12,
    "start_time": "2023-02-28T16:08:16.003Z"
   },
   {
    "duration": 26,
    "start_time": "2023-02-28T16:08:28.527Z"
   },
   {
    "duration": 17,
    "start_time": "2023-02-28T16:08:51.157Z"
   },
   {
    "duration": 5,
    "start_time": "2023-02-28T16:11:20.861Z"
   },
   {
    "duration": 4,
    "start_time": "2023-02-28T16:11:49.564Z"
   },
   {
    "duration": 4,
    "start_time": "2023-02-28T16:11:58.826Z"
   },
   {
    "duration": 62,
    "start_time": "2023-02-28T16:12:14.716Z"
   },
   {
    "duration": 20,
    "start_time": "2023-02-28T16:12:35.209Z"
   },
   {
    "duration": 26,
    "start_time": "2023-02-28T16:12:45.427Z"
   },
   {
    "duration": 75,
    "start_time": "2023-02-28T16:13:03.204Z"
   },
   {
    "duration": 17,
    "start_time": "2023-02-28T16:13:17.696Z"
   },
   {
    "duration": 74,
    "start_time": "2023-02-28T16:13:22.210Z"
   },
   {
    "duration": 10,
    "start_time": "2023-02-28T16:28:31.225Z"
   },
   {
    "duration": 18,
    "start_time": "2023-02-28T16:28:40.297Z"
   },
   {
    "duration": 11,
    "start_time": "2023-02-28T16:28:46.368Z"
   },
   {
    "duration": 5,
    "start_time": "2023-02-28T16:41:40.576Z"
   },
   {
    "duration": 11,
    "start_time": "2023-02-28T16:41:41.258Z"
   },
   {
    "duration": 8,
    "start_time": "2023-02-28T16:45:23.384Z"
   },
   {
    "duration": 13,
    "start_time": "2023-02-28T16:46:59.031Z"
   },
   {
    "duration": 14,
    "start_time": "2023-02-28T16:47:11.053Z"
   },
   {
    "duration": 6,
    "start_time": "2023-02-28T16:47:27.266Z"
   },
   {
    "duration": 9,
    "start_time": "2023-02-28T16:47:28.386Z"
   },
   {
    "duration": 5,
    "start_time": "2023-02-28T16:47:35.658Z"
   },
   {
    "duration": 6,
    "start_time": "2023-02-28T16:47:36.282Z"
   },
   {
    "duration": 8,
    "start_time": "2023-02-28T16:47:36.799Z"
   },
   {
    "duration": 8,
    "start_time": "2023-02-28T16:48:32.561Z"
   },
   {
    "duration": 8,
    "start_time": "2023-02-28T16:48:33.065Z"
   },
   {
    "duration": 8,
    "start_time": "2023-02-28T16:48:53.756Z"
   },
   {
    "duration": 8,
    "start_time": "2023-02-28T16:49:21.612Z"
   },
   {
    "duration": 618,
    "start_time": "2023-02-28T16:49:42.900Z"
   },
   {
    "duration": 108,
    "start_time": "2023-02-28T16:50:00.507Z"
   },
   {
    "duration": 23,
    "start_time": "2023-02-28T16:50:00.902Z"
   },
   {
    "duration": 27,
    "start_time": "2023-02-28T16:50:01.292Z"
   },
   {
    "duration": 15,
    "start_time": "2023-02-28T16:50:02.112Z"
   },
   {
    "duration": 60,
    "start_time": "2023-02-28T16:50:02.524Z"
   },
   {
    "duration": 23,
    "start_time": "2023-02-28T16:50:03.133Z"
   },
   {
    "duration": 11,
    "start_time": "2023-02-28T16:50:03.522Z"
   },
   {
    "duration": 13,
    "start_time": "2023-02-28T16:50:04.147Z"
   },
   {
    "duration": 16,
    "start_time": "2023-02-28T16:50:04.553Z"
   },
   {
    "duration": 28,
    "start_time": "2023-02-28T16:50:04.957Z"
   },
   {
    "duration": 60,
    "start_time": "2023-02-28T16:50:05.885Z"
   },
   {
    "duration": 14,
    "start_time": "2023-02-28T16:50:06.361Z"
   },
   {
    "duration": 6,
    "start_time": "2023-02-28T16:50:07.367Z"
   },
   {
    "duration": 20,
    "start_time": "2023-02-28T16:50:08.647Z"
   },
   {
    "duration": 29,
    "start_time": "2023-02-28T16:50:09.387Z"
   },
   {
    "duration": 31,
    "start_time": "2023-02-28T16:50:09.667Z"
   },
   {
    "duration": 7,
    "start_time": "2023-02-28T16:50:10.479Z"
   },
   {
    "duration": 17,
    "start_time": "2023-02-28T16:50:10.683Z"
   },
   {
    "duration": 8,
    "start_time": "2023-02-28T16:50:11.478Z"
   },
   {
    "duration": 4,
    "start_time": "2023-02-28T16:50:12.294Z"
   },
   {
    "duration": 19,
    "start_time": "2023-02-28T16:50:12.825Z"
   },
   {
    "duration": 3,
    "start_time": "2023-02-28T16:50:14.961Z"
   },
   {
    "duration": 764,
    "start_time": "2023-02-28T16:50:15.278Z"
   },
   {
    "duration": 0,
    "start_time": "2023-02-28T16:50:16.049Z"
   },
   {
    "duration": 4,
    "start_time": "2023-02-28T16:50:29.553Z"
   },
   {
    "duration": 8,
    "start_time": "2023-02-28T16:50:43.616Z"
   },
   {
    "duration": 63,
    "start_time": "2023-02-28T16:53:36.681Z"
   },
   {
    "duration": 5,
    "start_time": "2023-02-28T16:53:55.647Z"
   },
   {
    "duration": 9,
    "start_time": "2023-02-28T16:54:02.195Z"
   },
   {
    "duration": 390,
    "start_time": "2023-02-28T16:54:39.052Z"
   },
   {
    "duration": 49,
    "start_time": "2023-02-28T16:54:46.755Z"
   },
   {
    "duration": 416,
    "start_time": "2023-02-28T16:54:51.371Z"
   },
   {
    "duration": 5,
    "start_time": "2023-02-28T16:55:02.316Z"
   },
   {
    "duration": 7,
    "start_time": "2023-02-28T16:55:43.275Z"
   },
   {
    "duration": 10,
    "start_time": "2023-02-28T16:55:47.532Z"
   },
   {
    "duration": 5,
    "start_time": "2023-02-28T16:55:48.345Z"
   },
   {
    "duration": 12,
    "start_time": "2023-02-28T16:56:00.863Z"
   },
   {
    "duration": 9,
    "start_time": "2023-02-28T16:57:12.955Z"
   },
   {
    "duration": 4,
    "start_time": "2023-02-28T16:57:28.916Z"
   },
   {
    "duration": 5,
    "start_time": "2023-02-28T17:02:22.620Z"
   },
   {
    "duration": 12,
    "start_time": "2023-02-28T17:02:33.849Z"
   },
   {
    "duration": 6,
    "start_time": "2023-02-28T17:03:05.369Z"
   },
   {
    "duration": 7139,
    "start_time": "2023-02-28T17:03:05.378Z"
   },
   {
    "duration": 4,
    "start_time": "2023-02-28T17:03:43.016Z"
   },
   {
    "duration": 4,
    "start_time": "2023-02-28T17:03:43.483Z"
   },
   {
    "duration": 3,
    "start_time": "2023-02-28T17:04:00.751Z"
   },
   {
    "duration": 4,
    "start_time": "2023-02-28T17:04:01.490Z"
   },
   {
    "duration": 2,
    "start_time": "2023-02-28T17:04:07.019Z"
   },
   {
    "duration": 6,
    "start_time": "2023-02-28T17:04:30.277Z"
   },
   {
    "duration": 9,
    "start_time": "2023-02-28T17:06:35.372Z"
   },
   {
    "duration": 17,
    "start_time": "2023-02-28T17:08:56.029Z"
   },
   {
    "duration": 6,
    "start_time": "2023-02-28T17:09:05.460Z"
   },
   {
    "duration": 7,
    "start_time": "2023-02-28T17:09:33.679Z"
   },
   {
    "duration": 7,
    "start_time": "2023-02-28T17:09:44.687Z"
   },
   {
    "duration": 51,
    "start_time": "2023-03-01T12:36:50.302Z"
   },
   {
    "duration": 3,
    "start_time": "2023-03-01T12:36:52.447Z"
   },
   {
    "duration": 8,
    "start_time": "2023-03-01T12:36:53.986Z"
   },
   {
    "duration": 538,
    "start_time": "2023-03-01T12:36:59.725Z"
   },
   {
    "duration": 24,
    "start_time": "2023-03-01T12:37:00.468Z"
   },
   {
    "duration": 18,
    "start_time": "2023-03-01T12:37:00.818Z"
   },
   {
    "duration": 14,
    "start_time": "2023-03-01T12:37:01.567Z"
   },
   {
    "duration": 49,
    "start_time": "2023-03-01T12:37:01.974Z"
   },
   {
    "duration": 5,
    "start_time": "2023-03-01T12:37:02.550Z"
   },
   {
    "duration": 9,
    "start_time": "2023-03-01T12:37:02.917Z"
   },
   {
    "duration": 4,
    "start_time": "2023-03-01T12:37:03.480Z"
   },
   {
    "duration": 7,
    "start_time": "2023-03-01T12:37:03.857Z"
   },
   {
    "duration": 6,
    "start_time": "2023-03-01T12:37:04.200Z"
   },
   {
    "duration": 49,
    "start_time": "2023-03-01T12:37:04.783Z"
   },
   {
    "duration": 23,
    "start_time": "2023-03-01T12:37:05.190Z"
   },
   {
    "duration": 4,
    "start_time": "2023-03-01T12:37:05.759Z"
   },
   {
    "duration": 11,
    "start_time": "2023-03-01T12:37:06.311Z"
   },
   {
    "duration": 20,
    "start_time": "2023-03-01T12:37:06.673Z"
   },
   {
    "duration": 18,
    "start_time": "2023-03-01T12:37:06.856Z"
   },
   {
    "duration": 3,
    "start_time": "2023-03-01T12:37:07.472Z"
   },
   {
    "duration": 11,
    "start_time": "2023-03-01T12:37:07.664Z"
   },
   {
    "duration": 6,
    "start_time": "2023-03-01T12:37:08.112Z"
   },
   {
    "duration": 4,
    "start_time": "2023-03-01T12:37:08.516Z"
   },
   {
    "duration": 8,
    "start_time": "2023-03-01T12:37:08.732Z"
   },
   {
    "duration": 4,
    "start_time": "2023-03-01T12:37:09.586Z"
   },
   {
    "duration": 12,
    "start_time": "2023-03-01T12:37:09.819Z"
   },
   {
    "duration": 24,
    "start_time": "2023-03-01T12:37:16.255Z"
   },
   {
    "duration": 68,
    "start_time": "2023-03-01T12:52:34.419Z"
   },
   {
    "duration": 24,
    "start_time": "2023-03-01T12:52:36.300Z"
   },
   {
    "duration": 15,
    "start_time": "2023-03-01T12:52:37.486Z"
   },
   {
    "duration": 11,
    "start_time": "2023-03-01T12:52:38.183Z"
   },
   {
    "duration": 42,
    "start_time": "2023-03-01T12:52:38.532Z"
   },
   {
    "duration": 3,
    "start_time": "2023-03-01T12:52:39.101Z"
   },
   {
    "duration": 10,
    "start_time": "2023-03-01T12:52:39.540Z"
   },
   {
    "duration": 4,
    "start_time": "2023-03-01T12:52:40.124Z"
   },
   {
    "duration": 7,
    "start_time": "2023-03-01T12:52:40.524Z"
   },
   {
    "duration": 8,
    "start_time": "2023-03-01T12:52:40.949Z"
   },
   {
    "duration": 35,
    "start_time": "2023-03-01T12:52:41.547Z"
   },
   {
    "duration": 12,
    "start_time": "2023-03-01T12:52:42.012Z"
   },
   {
    "duration": 3,
    "start_time": "2023-03-01T12:52:42.773Z"
   },
   {
    "duration": 11,
    "start_time": "2023-03-01T12:52:43.493Z"
   },
   {
    "duration": 21,
    "start_time": "2023-03-01T12:52:43.981Z"
   },
   {
    "duration": 19,
    "start_time": "2023-03-01T12:52:44.159Z"
   },
   {
    "duration": 4,
    "start_time": "2023-03-01T12:52:44.837Z"
   },
   {
    "duration": 11,
    "start_time": "2023-03-01T12:52:45.028Z"
   },
   {
    "duration": 6,
    "start_time": "2023-03-01T12:52:45.468Z"
   },
   {
    "duration": 4,
    "start_time": "2023-03-01T12:52:46.085Z"
   },
   {
    "duration": 10,
    "start_time": "2023-03-01T12:52:46.340Z"
   },
   {
    "duration": 3,
    "start_time": "2023-03-01T12:52:47.205Z"
   },
   {
    "duration": 8,
    "start_time": "2023-03-01T12:52:47.451Z"
   },
   {
    "duration": 22,
    "start_time": "2023-03-01T12:52:47.687Z"
   },
   {
    "duration": 6,
    "start_time": "2023-03-01T12:52:47.918Z"
   },
   {
    "duration": 3,
    "start_time": "2023-03-01T12:52:49.316Z"
   },
   {
    "duration": 17,
    "start_time": "2023-03-01T13:02:24.091Z"
   },
   {
    "duration": 6,
    "start_time": "2023-03-01T13:02:30.139Z"
   },
   {
    "duration": 25,
    "start_time": "2023-03-01T13:03:20.285Z"
   },
   {
    "duration": 19,
    "start_time": "2023-03-01T13:03:26.572Z"
   },
   {
    "duration": 39,
    "start_time": "2023-03-01T13:04:58.030Z"
   },
   {
    "duration": 897,
    "start_time": "2023-03-01T13:05:14.102Z"
   },
   {
    "duration": 52,
    "start_time": "2023-03-01T13:09:45.821Z"
   },
   {
    "duration": 11,
    "start_time": "2023-03-01T13:09:53.852Z"
   },
   {
    "duration": 4,
    "start_time": "2023-03-01T13:12:25.003Z"
   },
   {
    "duration": 6,
    "start_time": "2023-03-01T13:12:31.074Z"
   },
   {
    "duration": 17,
    "start_time": "2023-03-01T13:12:43.818Z"
   },
   {
    "duration": 4,
    "start_time": "2023-03-01T13:12:44.355Z"
   },
   {
    "duration": 41,
    "start_time": "2023-03-01T13:12:45.923Z"
   },
   {
    "duration": 9,
    "start_time": "2023-03-01T13:12:52.395Z"
   },
   {
    "duration": 4,
    "start_time": "2023-03-01T13:23:58.650Z"
   },
   {
    "duration": 13,
    "start_time": "2023-03-01T13:23:59.120Z"
   },
   {
    "duration": 17,
    "start_time": "2023-03-01T13:23:59.565Z"
   },
   {
    "duration": 5,
    "start_time": "2023-03-01T13:24:00.053Z"
   },
   {
    "duration": 9,
    "start_time": "2023-03-01T13:24:00.546Z"
   },
   {
    "duration": 8,
    "start_time": "2023-03-01T13:24:01.830Z"
   },
   {
    "duration": 7,
    "start_time": "2023-03-01T13:26:07.406Z"
   },
   {
    "duration": 9,
    "start_time": "2023-03-01T13:26:14.932Z"
   },
   {
    "duration": 1828,
    "start_time": "2023-03-01T13:30:10.332Z"
   },
   {
    "duration": 0,
    "start_time": "2023-03-01T13:30:12.163Z"
   },
   {
    "duration": 14,
    "start_time": "2023-03-01T13:30:23.148Z"
   },
   {
    "duration": 12,
    "start_time": "2023-03-01T13:30:24.102Z"
   },
   {
    "duration": 4,
    "start_time": "2023-03-01T13:31:21.880Z"
   },
   {
    "duration": 8,
    "start_time": "2023-03-01T13:31:22.635Z"
   },
   {
    "duration": 1026,
    "start_time": "2023-03-01T13:33:15.927Z"
   },
   {
    "duration": 0,
    "start_time": "2023-03-01T13:33:16.955Z"
   },
   {
    "duration": 5,
    "start_time": "2023-03-01T13:33:24.493Z"
   },
   {
    "duration": 9,
    "start_time": "2023-03-01T13:33:25.245Z"
   },
   {
    "duration": 5,
    "start_time": "2023-03-01T13:34:08.247Z"
   },
   {
    "duration": 8,
    "start_time": "2023-03-01T13:34:09.355Z"
   },
   {
    "duration": 4,
    "start_time": "2023-03-01T13:34:21.393Z"
   },
   {
    "duration": 8,
    "start_time": "2023-03-01T13:34:21.933Z"
   },
   {
    "duration": 17,
    "start_time": "2023-03-01T13:34:32.561Z"
   },
   {
    "duration": 4,
    "start_time": "2023-03-01T13:34:33.095Z"
   },
   {
    "duration": 9,
    "start_time": "2023-03-01T13:34:33.633Z"
   },
   {
    "duration": 4,
    "start_time": "2023-03-01T13:34:34.576Z"
   },
   {
    "duration": 8,
    "start_time": "2023-03-01T13:34:35.143Z"
   },
   {
    "duration": 8,
    "start_time": "2023-03-01T13:35:58.574Z"
   },
   {
    "duration": 9,
    "start_time": "2023-03-01T13:36:54.846Z"
   },
   {
    "duration": 9,
    "start_time": "2023-03-01T13:37:09.478Z"
   },
   {
    "duration": 11,
    "start_time": "2023-03-01T13:41:18.576Z"
   },
   {
    "duration": 5,
    "start_time": "2023-03-01T13:41:31.441Z"
   },
   {
    "duration": 8,
    "start_time": "2023-03-01T13:46:05.949Z"
   },
   {
    "duration": 11,
    "start_time": "2023-03-01T13:46:12.023Z"
   },
   {
    "duration": 10,
    "start_time": "2023-03-01T13:46:21.220Z"
   },
   {
    "duration": 9,
    "start_time": "2023-03-01T13:46:32.544Z"
   },
   {
    "duration": 10,
    "start_time": "2023-03-01T13:47:01.093Z"
   },
   {
    "duration": 8,
    "start_time": "2023-03-01T13:47:07.551Z"
   },
   {
    "duration": 8,
    "start_time": "2023-03-01T13:47:11.228Z"
   },
   {
    "duration": 13,
    "start_time": "2023-03-01T13:47:22.070Z"
   },
   {
    "duration": 12,
    "start_time": "2023-03-01T13:47:54.423Z"
   },
   {
    "duration": 10,
    "start_time": "2023-03-01T13:47:58.596Z"
   },
   {
    "duration": 15,
    "start_time": "2023-03-01T13:49:27.795Z"
   },
   {
    "duration": 5,
    "start_time": "2023-03-01T13:49:41.345Z"
   },
   {
    "duration": 10,
    "start_time": "2023-03-01T13:49:48.003Z"
   },
   {
    "duration": 4,
    "start_time": "2023-03-01T13:53:39.078Z"
   },
   {
    "duration": 11,
    "start_time": "2023-03-01T13:53:43.421Z"
   },
   {
    "duration": 25,
    "start_time": "2023-03-01T13:53:44.058Z"
   },
   {
    "duration": 6,
    "start_time": "2023-03-01T13:53:44.949Z"
   },
   {
    "duration": 6,
    "start_time": "2023-03-01T13:53:45.667Z"
   },
   {
    "duration": 11,
    "start_time": "2023-03-01T13:53:46.349Z"
   },
   {
    "duration": 9,
    "start_time": "2023-03-01T13:57:30.055Z"
   },
   {
    "duration": 12,
    "start_time": "2023-03-01T13:58:57.029Z"
   },
   {
    "duration": 48,
    "start_time": "2023-03-01T19:43:27.244Z"
   },
   {
    "duration": 549,
    "start_time": "2023-03-01T19:43:33.594Z"
   },
   {
    "duration": 22,
    "start_time": "2023-03-01T19:43:34.145Z"
   },
   {
    "duration": 20,
    "start_time": "2023-03-01T19:43:34.296Z"
   },
   {
    "duration": 11,
    "start_time": "2023-03-01T19:43:35.010Z"
   },
   {
    "duration": 39,
    "start_time": "2023-03-01T19:43:35.406Z"
   },
   {
    "duration": 4,
    "start_time": "2023-03-01T19:43:35.931Z"
   },
   {
    "duration": 8,
    "start_time": "2023-03-01T19:43:36.299Z"
   },
   {
    "duration": 6,
    "start_time": "2023-03-01T19:43:36.867Z"
   },
   {
    "duration": 8,
    "start_time": "2023-03-01T19:43:37.242Z"
   },
   {
    "duration": 6,
    "start_time": "2023-03-01T19:43:37.617Z"
   },
   {
    "duration": 49,
    "start_time": "2023-03-01T19:43:38.164Z"
   },
   {
    "duration": 11,
    "start_time": "2023-03-01T19:43:38.538Z"
   },
   {
    "duration": 5,
    "start_time": "2023-03-01T19:43:39.068Z"
   },
   {
    "duration": 12,
    "start_time": "2023-03-01T19:43:39.622Z"
   },
   {
    "duration": 25,
    "start_time": "2023-03-01T19:43:39.990Z"
   },
   {
    "duration": 18,
    "start_time": "2023-03-01T19:43:40.173Z"
   },
   {
    "duration": 4,
    "start_time": "2023-03-01T19:43:40.773Z"
   },
   {
    "duration": 11,
    "start_time": "2023-03-01T19:43:40.922Z"
   },
   {
    "duration": 5,
    "start_time": "2023-03-01T19:43:41.307Z"
   },
   {
    "duration": 4,
    "start_time": "2023-03-01T19:43:41.687Z"
   },
   {
    "duration": 8,
    "start_time": "2023-03-01T19:43:41.880Z"
   },
   {
    "duration": 2,
    "start_time": "2023-03-01T19:43:42.683Z"
   },
   {
    "duration": 84,
    "start_time": "2023-03-01T19:43:42.895Z"
   },
   {
    "duration": 25,
    "start_time": "2023-03-01T19:43:43.104Z"
   },
   {
    "duration": 22,
    "start_time": "2023-03-01T19:43:43.308Z"
   },
   {
    "duration": 11,
    "start_time": "2023-03-01T19:43:43.544Z"
   },
   {
    "duration": 24,
    "start_time": "2023-03-01T19:43:43.723Z"
   },
   {
    "duration": 2,
    "start_time": "2023-03-01T19:43:45.828Z"
   },
   {
    "duration": 47,
    "start_time": "2023-03-01T19:45:32.485Z"
   },
   {
    "duration": 57,
    "start_time": "2023-03-01T19:47:26.289Z"
   },
   {
    "duration": 18,
    "start_time": "2023-03-01T19:47:55.808Z"
   },
   {
    "duration": 19,
    "start_time": "2023-03-01T19:48:01.176Z"
   },
   {
    "duration": 9,
    "start_time": "2023-03-01T19:48:20.482Z"
   },
   {
    "duration": 6,
    "start_time": "2023-03-01T19:48:21.279Z"
   },
   {
    "duration": 48,
    "start_time": "2023-03-01T19:48:32.737Z"
   },
   {
    "duration": 52,
    "start_time": "2023-03-01T19:48:47.768Z"
   },
   {
    "duration": 4,
    "start_time": "2023-03-01T19:49:05.036Z"
   },
   {
    "duration": 23,
    "start_time": "2023-03-01T19:49:11.882Z"
   },
   {
    "duration": 10,
    "start_time": "2023-03-01T19:49:14.701Z"
   },
   {
    "duration": 21,
    "start_time": "2023-03-01T19:49:31.447Z"
   },
   {
    "duration": 13,
    "start_time": "2023-03-01T19:49:32.081Z"
   },
   {
    "duration": 10,
    "start_time": "2023-03-01T19:49:41.881Z"
   },
   {
    "duration": 43,
    "start_time": "2023-03-01T19:50:34.851Z"
   },
   {
    "duration": 45,
    "start_time": "2023-03-01T19:52:32.480Z"
   },
   {
    "duration": 59,
    "start_time": "2023-03-01T19:52:47.260Z"
   },
   {
    "duration": 13,
    "start_time": "2023-03-01T19:53:05.650Z"
   },
   {
    "duration": 10,
    "start_time": "2023-03-01T19:53:15.468Z"
   },
   {
    "duration": 8,
    "start_time": "2023-03-01T19:53:20.861Z"
   },
   {
    "duration": 8,
    "start_time": "2023-03-01T19:56:31.860Z"
   },
   {
    "duration": 243,
    "start_time": "2023-03-01T19:57:00.998Z"
   },
   {
    "duration": 22,
    "start_time": "2023-03-01T19:57:38.225Z"
   },
   {
    "duration": 12,
    "start_time": "2023-03-01T19:57:40.975Z"
   },
   {
    "duration": 6,
    "start_time": "2023-03-01T19:58:50.212Z"
   },
   {
    "duration": 7,
    "start_time": "2023-03-01T19:58:56.469Z"
   },
   {
    "duration": 8,
    "start_time": "2023-03-01T19:59:20.825Z"
   },
   {
    "duration": 11,
    "start_time": "2023-03-01T20:00:04.169Z"
   },
   {
    "duration": 3,
    "start_time": "2023-03-01T20:00:14.477Z"
   },
   {
    "duration": 9,
    "start_time": "2023-03-01T20:00:15.260Z"
   },
   {
    "duration": 25,
    "start_time": "2023-03-01T20:02:22.893Z"
   },
   {
    "duration": 3,
    "start_time": "2023-03-01T20:02:23.550Z"
   },
   {
    "duration": 9,
    "start_time": "2023-03-01T20:02:24.036Z"
   },
   {
    "duration": 14,
    "start_time": "2023-03-01T20:12:28.289Z"
   },
   {
    "duration": 8,
    "start_time": "2023-03-01T20:12:33.467Z"
   },
   {
    "duration": 26,
    "start_time": "2023-03-01T20:12:36.743Z"
   },
   {
    "duration": 10,
    "start_time": "2023-03-01T20:12:42.554Z"
   },
   {
    "duration": 34,
    "start_time": "2023-03-01T20:13:07.862Z"
   },
   {
    "duration": 7,
    "start_time": "2023-03-01T20:13:08.421Z"
   },
   {
    "duration": 12,
    "start_time": "2023-03-01T20:13:43.662Z"
   },
   {
    "duration": 23,
    "start_time": "2023-03-01T20:13:49.821Z"
   },
   {
    "duration": 21,
    "start_time": "2023-03-01T20:15:06.455Z"
   },
   {
    "duration": 4,
    "start_time": "2023-03-01T20:15:07.045Z"
   },
   {
    "duration": 9,
    "start_time": "2023-03-01T20:15:09.931Z"
   },
   {
    "duration": 8,
    "start_time": "2023-03-01T20:15:17.084Z"
   },
   {
    "duration": 11,
    "start_time": "2023-03-01T20:15:24.908Z"
   },
   {
    "duration": 27,
    "start_time": "2023-03-01T20:15:27.713Z"
   },
   {
    "duration": 49,
    "start_time": "2023-03-02T09:25:52.964Z"
   },
   {
    "duration": 524,
    "start_time": "2023-03-02T09:26:01.919Z"
   },
   {
    "duration": 31,
    "start_time": "2023-03-02T09:26:02.445Z"
   },
   {
    "duration": 17,
    "start_time": "2023-03-02T09:26:02.584Z"
   },
   {
    "duration": 12,
    "start_time": "2023-03-02T09:26:03.313Z"
   },
   {
    "duration": 35,
    "start_time": "2023-03-02T09:26:03.612Z"
   },
   {
    "duration": 4,
    "start_time": "2023-03-02T09:26:04.131Z"
   },
   {
    "duration": 10,
    "start_time": "2023-03-02T09:26:04.452Z"
   },
   {
    "duration": 5,
    "start_time": "2023-03-02T09:26:04.974Z"
   },
   {
    "duration": 8,
    "start_time": "2023-03-02T09:26:05.319Z"
   },
   {
    "duration": 6,
    "start_time": "2023-03-02T09:26:05.704Z"
   },
   {
    "duration": 37,
    "start_time": "2023-03-02T09:26:06.312Z"
   },
   {
    "duration": 11,
    "start_time": "2023-03-02T09:26:07.177Z"
   },
   {
    "duration": 6,
    "start_time": "2023-03-02T09:26:07.760Z"
   },
   {
    "duration": 12,
    "start_time": "2023-03-02T09:26:08.471Z"
   },
   {
    "duration": 22,
    "start_time": "2023-03-02T09:26:08.886Z"
   },
   {
    "duration": 18,
    "start_time": "2023-03-02T09:26:09.240Z"
   },
   {
    "duration": 4,
    "start_time": "2023-03-02T09:26:09.840Z"
   },
   {
    "duration": 18,
    "start_time": "2023-03-02T09:26:10.032Z"
   },
   {
    "duration": 8,
    "start_time": "2023-03-02T09:26:10.410Z"
   },
   {
    "duration": 4,
    "start_time": "2023-03-02T09:26:10.800Z"
   },
   {
    "duration": 9,
    "start_time": "2023-03-02T09:26:10.984Z"
   },
   {
    "duration": 26,
    "start_time": "2023-03-02T09:26:11.808Z"
   },
   {
    "duration": 8,
    "start_time": "2023-03-02T09:26:12.041Z"
   },
   {
    "duration": 29,
    "start_time": "2023-03-02T09:29:19.487Z"
   },
   {
    "duration": 26,
    "start_time": "2023-03-02T09:29:28.640Z"
   },
   {
    "duration": 7,
    "start_time": "2023-03-02T09:29:43.835Z"
   },
   {
    "duration": 8,
    "start_time": "2023-03-02T09:29:59.657Z"
   },
   {
    "duration": 6,
    "start_time": "2023-03-02T09:30:04.489Z"
   },
   {
    "duration": 9,
    "start_time": "2023-03-02T09:40:14.756Z"
   },
   {
    "duration": 7,
    "start_time": "2023-03-02T09:40:41.643Z"
   },
   {
    "duration": 570,
    "start_time": "2023-03-02T09:41:11.740Z"
   },
   {
    "duration": 18,
    "start_time": "2023-03-02T09:41:26.949Z"
   },
   {
    "duration": 7,
    "start_time": "2023-03-02T09:41:35.566Z"
   },
   {
    "duration": 22,
    "start_time": "2023-03-02T09:44:50.148Z"
   },
   {
    "duration": 8,
    "start_time": "2023-03-02T09:44:52.980Z"
   },
   {
    "duration": 18,
    "start_time": "2023-03-02T09:45:11.357Z"
   },
   {
    "duration": 9,
    "start_time": "2023-03-02T09:45:22.652Z"
   },
   {
    "duration": 8,
    "start_time": "2023-03-02T09:45:38.783Z"
   },
   {
    "duration": 6,
    "start_time": "2023-03-02T09:45:41.620Z"
   },
   {
    "duration": 10,
    "start_time": "2023-03-02T09:47:53.322Z"
   },
   {
    "duration": 8,
    "start_time": "2023-03-02T09:47:55.931Z"
   },
   {
    "duration": 3,
    "start_time": "2023-03-02T09:58:58.851Z"
   },
   {
    "duration": 7,
    "start_time": "2023-03-02T09:59:04.204Z"
   },
   {
    "duration": 6,
    "start_time": "2023-03-02T09:59:57.729Z"
   },
   {
    "duration": 7,
    "start_time": "2023-03-02T10:00:00.991Z"
   },
   {
    "duration": 4,
    "start_time": "2023-03-02T10:00:28.728Z"
   },
   {
    "duration": 6,
    "start_time": "2023-03-02T10:00:31.282Z"
   },
   {
    "duration": 64,
    "start_time": "2023-03-02T10:00:41.128Z"
   },
   {
    "duration": 3,
    "start_time": "2023-03-02T10:00:51.945Z"
   },
   {
    "duration": 7,
    "start_time": "2023-03-02T10:00:54.633Z"
   },
   {
    "duration": 49,
    "start_time": "2023-03-02T10:01:51.453Z"
   },
   {
    "duration": 3,
    "start_time": "2023-03-02T10:01:55.380Z"
   },
   {
    "duration": 6,
    "start_time": "2023-03-02T10:02:00.132Z"
   },
   {
    "duration": 7,
    "start_time": "2023-03-02T10:03:55.608Z"
   },
   {
    "duration": 768,
    "start_time": "2023-03-02T10:05:16.624Z"
   },
   {
    "duration": 102,
    "start_time": "2023-03-02T10:05:30.381Z"
   },
   {
    "duration": 6,
    "start_time": "2023-03-02T10:05:36.020Z"
   },
   {
    "duration": 25,
    "start_time": "2023-03-02T10:05:45.300Z"
   },
   {
    "duration": 4,
    "start_time": "2023-03-02T10:06:13.598Z"
   },
   {
    "duration": 68,
    "start_time": "2023-03-02T10:06:15.078Z"
   },
   {
    "duration": 24,
    "start_time": "2023-03-02T10:06:15.794Z"
   },
   {
    "duration": 7,
    "start_time": "2023-03-02T10:06:22.054Z"
   },
   {
    "duration": 6,
    "start_time": "2023-03-02T10:06:31.615Z"
   },
   {
    "duration": 3,
    "start_time": "2023-03-02T10:07:02.256Z"
   },
   {
    "duration": 68,
    "start_time": "2023-03-02T10:07:04.395Z"
   },
   {
    "duration": 24,
    "start_time": "2023-03-02T10:07:05.306Z"
   },
   {
    "duration": 79,
    "start_time": "2023-03-02T10:14:12.104Z"
   },
   {
    "duration": 27,
    "start_time": "2023-03-02T10:14:15.233Z"
   },
   {
    "duration": 47,
    "start_time": "2023-03-02T10:14:28.441Z"
   },
   {
    "duration": 4,
    "start_time": "2023-03-02T10:15:08.006Z"
   },
   {
    "duration": 7,
    "start_time": "2023-03-02T10:15:09.034Z"
   },
   {
    "duration": 29,
    "start_time": "2023-03-02T10:15:09.682Z"
   },
   {
    "duration": 4,
    "start_time": "2023-03-02T10:15:40.532Z"
   },
   {
    "duration": 7,
    "start_time": "2023-03-02T10:15:41.235Z"
   },
   {
    "duration": 21,
    "start_time": "2023-03-02T10:15:41.951Z"
   },
   {
    "duration": 13,
    "start_time": "2023-03-02T10:16:55.352Z"
   },
   {
    "duration": 5,
    "start_time": "2023-03-02T10:17:02.159Z"
   },
   {
    "duration": 29,
    "start_time": "2023-03-02T10:17:13.400Z"
   },
   {
    "duration": 4,
    "start_time": "2023-03-02T10:17:26.491Z"
   },
   {
    "duration": 16,
    "start_time": "2023-03-02T10:17:29.839Z"
   },
   {
    "duration": 6,
    "start_time": "2023-03-02T10:17:56.764Z"
   },
   {
    "duration": 10,
    "start_time": "2023-03-02T10:17:57.388Z"
   },
   {
    "duration": 15,
    "start_time": "2023-03-02T10:17:58.129Z"
   },
   {
    "duration": 13,
    "start_time": "2023-03-02T10:18:12.878Z"
   },
   {
    "duration": 16,
    "start_time": "2023-03-02T10:18:13.555Z"
   },
   {
    "duration": 8,
    "start_time": "2023-03-02T10:18:27.285Z"
   },
   {
    "duration": 6,
    "start_time": "2023-03-02T10:18:39.375Z"
   },
   {
    "duration": 70,
    "start_time": "2023-03-02T10:19:11.477Z"
   },
   {
    "duration": 16,
    "start_time": "2023-03-02T10:19:11.835Z"
   },
   {
    "duration": 16,
    "start_time": "2023-03-02T10:19:12.237Z"
   },
   {
    "duration": 11,
    "start_time": "2023-03-02T10:19:12.911Z"
   },
   {
    "duration": 36,
    "start_time": "2023-03-02T10:19:13.257Z"
   },
   {
    "duration": 5,
    "start_time": "2023-03-02T10:19:13.767Z"
   },
   {
    "duration": 8,
    "start_time": "2023-03-02T10:19:14.132Z"
   },
   {
    "duration": 5,
    "start_time": "2023-03-02T10:19:14.720Z"
   },
   {
    "duration": 6,
    "start_time": "2023-03-02T10:19:15.101Z"
   },
   {
    "duration": 5,
    "start_time": "2023-03-02T10:19:15.469Z"
   },
   {
    "duration": 45,
    "start_time": "2023-03-02T10:19:16.061Z"
   },
   {
    "duration": 11,
    "start_time": "2023-03-02T10:19:16.453Z"
   },
   {
    "duration": 4,
    "start_time": "2023-03-02T10:19:17.030Z"
   },
   {
    "duration": 13,
    "start_time": "2023-03-02T10:19:17.613Z"
   },
   {
    "duration": 22,
    "start_time": "2023-03-02T10:19:18.040Z"
   },
   {
    "duration": 18,
    "start_time": "2023-03-02T10:19:18.230Z"
   },
   {
    "duration": 3,
    "start_time": "2023-03-02T10:19:18.845Z"
   },
   {
    "duration": 11,
    "start_time": "2023-03-02T10:19:19.061Z"
   },
   {
    "duration": 8,
    "start_time": "2023-03-02T10:19:19.455Z"
   },
   {
    "duration": 4,
    "start_time": "2023-03-02T10:19:19.865Z"
   },
   {
    "duration": 9,
    "start_time": "2023-03-02T10:19:20.051Z"
   },
   {
    "duration": 34,
    "start_time": "2023-03-02T10:19:20.829Z"
   },
   {
    "duration": 10,
    "start_time": "2023-03-02T10:19:21.030Z"
   },
   {
    "duration": 6,
    "start_time": "2023-03-02T10:19:22.478Z"
   },
   {
    "duration": 9,
    "start_time": "2023-03-02T10:19:22.672Z"
   },
   {
    "duration": 7,
    "start_time": "2023-03-02T10:19:22.871Z"
   },
   {
    "duration": 10,
    "start_time": "2023-03-02T10:20:42.336Z"
   },
   {
    "duration": 6,
    "start_time": "2023-03-02T10:20:43.231Z"
   },
   {
    "duration": 23,
    "start_time": "2023-03-02T10:20:50.008Z"
   },
   {
    "duration": 8,
    "start_time": "2023-03-02T10:21:57.976Z"
   },
   {
    "duration": 13,
    "start_time": "2023-03-02T10:24:03.081Z"
   },
   {
    "duration": 6,
    "start_time": "2023-03-02T10:24:04.335Z"
   },
   {
    "duration": 10,
    "start_time": "2023-03-02T10:25:16.002Z"
   },
   {
    "duration": 7,
    "start_time": "2023-03-02T10:25:16.636Z"
   },
   {
    "duration": 66,
    "start_time": "2023-03-02T10:25:37.239Z"
   },
   {
    "duration": 44,
    "start_time": "2023-03-02T10:25:40.972Z"
   },
   {
    "duration": 15,
    "start_time": "2023-03-02T10:25:45.196Z"
   },
   {
    "duration": 6,
    "start_time": "2023-03-02T10:25:46.052Z"
   },
   {
    "duration": 22,
    "start_time": "2023-03-02T10:25:53.396Z"
   },
   {
    "duration": 6,
    "start_time": "2023-03-02T10:26:03.135Z"
   },
   {
    "duration": 13,
    "start_time": "2023-03-02T10:27:38.234Z"
   },
   {
    "duration": 7,
    "start_time": "2023-03-02T10:27:39.050Z"
   },
   {
    "duration": 28,
    "start_time": "2023-03-02T10:31:51.004Z"
   },
   {
    "duration": 8,
    "start_time": "2023-03-02T10:31:57.948Z"
   },
   {
    "duration": 38,
    "start_time": "2023-03-02T10:32:10.580Z"
   },
   {
    "duration": 8,
    "start_time": "2023-03-02T10:32:11.381Z"
   },
   {
    "duration": 37,
    "start_time": "2023-03-02T10:32:33.537Z"
   },
   {
    "duration": 7,
    "start_time": "2023-03-02T10:32:34.077Z"
   },
   {
    "duration": 36,
    "start_time": "2023-03-02T10:32:48.673Z"
   },
   {
    "duration": 10,
    "start_time": "2023-03-02T10:32:50.146Z"
   },
   {
    "duration": 10,
    "start_time": "2023-03-02T10:33:04.477Z"
   },
   {
    "duration": 12,
    "start_time": "2023-03-02T10:33:08.279Z"
   },
   {
    "duration": 51,
    "start_time": "2023-03-10T10:15:39.994Z"
   },
   {
    "duration": 1079,
    "start_time": "2023-03-10T10:15:49.074Z"
   },
   {
    "duration": 26,
    "start_time": "2023-03-10T10:15:50.155Z"
   },
   {
    "duration": 27,
    "start_time": "2023-03-10T10:15:50.183Z"
   },
   {
    "duration": 12,
    "start_time": "2023-03-10T10:15:50.577Z"
   },
   {
    "duration": 35,
    "start_time": "2023-03-10T10:15:50.977Z"
   },
   {
    "duration": 3,
    "start_time": "2023-03-10T10:15:51.536Z"
   },
   {
    "duration": 9,
    "start_time": "2023-03-10T10:15:51.892Z"
   },
   {
    "duration": 5,
    "start_time": "2023-03-10T10:15:52.461Z"
   },
   {
    "duration": 9,
    "start_time": "2023-03-10T10:15:52.818Z"
   },
   {
    "duration": 6,
    "start_time": "2023-03-10T10:15:53.210Z"
   },
   {
    "duration": 44,
    "start_time": "2023-03-10T10:15:53.754Z"
   },
   {
    "duration": 11,
    "start_time": "2023-03-10T10:15:54.116Z"
   },
   {
    "duration": 5,
    "start_time": "2023-03-10T10:15:54.686Z"
   },
   {
    "duration": 15,
    "start_time": "2023-03-10T10:15:55.314Z"
   },
   {
    "duration": 21,
    "start_time": "2023-03-10T10:15:55.656Z"
   },
   {
    "duration": 21,
    "start_time": "2023-03-10T10:15:55.864Z"
   },
   {
    "duration": 3,
    "start_time": "2023-03-10T10:15:56.441Z"
   },
   {
    "duration": 11,
    "start_time": "2023-03-10T10:15:56.646Z"
   },
   {
    "duration": 6,
    "start_time": "2023-03-10T10:15:57.048Z"
   },
   {
    "duration": 3,
    "start_time": "2023-03-10T10:15:57.422Z"
   },
   {
    "duration": 8,
    "start_time": "2023-03-10T10:15:57.640Z"
   },
   {
    "duration": 24,
    "start_time": "2023-03-10T10:15:58.401Z"
   },
   {
    "duration": 8,
    "start_time": "2023-03-10T10:15:58.621Z"
   },
   {
    "duration": 7,
    "start_time": "2023-03-10T10:15:59.637Z"
   },
   {
    "duration": 12,
    "start_time": "2023-03-10T10:15:59.844Z"
   },
   {
    "duration": 42,
    "start_time": "2023-03-10T10:16:00.050Z"
   },
   {
    "duration": 9,
    "start_time": "2023-03-10T10:16:00.309Z"
   },
   {
    "duration": 8,
    "start_time": "2023-03-10T10:16:00.892Z"
   },
   {
    "duration": 2,
    "start_time": "2023-03-10T10:16:01.526Z"
   },
   {
    "duration": 24,
    "start_time": "2023-03-10T10:17:29.530Z"
   },
   {
    "duration": 30,
    "start_time": "2023-03-10T10:17:40.535Z"
   },
   {
    "duration": 22,
    "start_time": "2023-03-10T10:17:48.804Z"
   },
   {
    "duration": 8,
    "start_time": "2023-03-10T10:18:01.338Z"
   },
   {
    "duration": 8,
    "start_time": "2023-03-10T10:18:07.474Z"
   },
   {
    "duration": 7,
    "start_time": "2023-03-10T10:22:31.637Z"
   },
   {
    "duration": 10,
    "start_time": "2023-03-10T10:23:08.994Z"
   },
   {
    "duration": 10,
    "start_time": "2023-03-10T10:23:38.347Z"
   },
   {
    "duration": 13,
    "start_time": "2023-03-10T10:24:25.694Z"
   },
   {
    "duration": 8,
    "start_time": "2023-03-10T10:24:35.918Z"
   },
   {
    "duration": 27,
    "start_time": "2023-03-10T10:29:09.056Z"
   },
   {
    "duration": 5,
    "start_time": "2023-03-10T10:29:21.117Z"
   },
   {
    "duration": 15,
    "start_time": "2023-03-10T10:29:35.526Z"
   },
   {
    "duration": 5,
    "start_time": "2023-03-10T10:29:44.805Z"
   },
   {
    "duration": 5,
    "start_time": "2023-03-10T10:29:48.352Z"
   },
   {
    "duration": 6,
    "start_time": "2023-03-10T10:30:13.163Z"
   },
   {
    "duration": 10,
    "start_time": "2023-03-10T10:30:43.888Z"
   },
   {
    "duration": 5,
    "start_time": "2023-03-10T10:31:27.846Z"
   },
   {
    "duration": 15,
    "start_time": "2023-03-10T10:31:35.166Z"
   },
   {
    "duration": 7,
    "start_time": "2023-03-10T10:31:41.110Z"
   },
   {
    "duration": 7,
    "start_time": "2023-03-10T10:31:58.286Z"
   },
   {
    "duration": 7,
    "start_time": "2023-03-10T10:32:51.869Z"
   },
   {
    "duration": 9,
    "start_time": "2023-03-10T10:40:44.882Z"
   },
   {
    "duration": 25,
    "start_time": "2023-03-10T10:40:56.665Z"
   },
   {
    "duration": 7,
    "start_time": "2023-03-10T10:41:08.080Z"
   },
   {
    "duration": 9,
    "start_time": "2023-03-10T10:44:15.949Z"
   },
   {
    "duration": 9,
    "start_time": "2023-03-10T10:57:09.132Z"
   },
   {
    "duration": 22,
    "start_time": "2023-03-10T10:57:13.480Z"
   },
   {
    "duration": 25,
    "start_time": "2023-03-10T10:57:27.893Z"
   },
   {
    "duration": 8,
    "start_time": "2023-03-10T10:57:29.538Z"
   },
   {
    "duration": 14,
    "start_time": "2023-03-10T10:57:31.932Z"
   },
   {
    "duration": 28,
    "start_time": "2023-03-10T10:58:06.293Z"
   },
   {
    "duration": 9,
    "start_time": "2023-03-10T10:58:07.020Z"
   },
   {
    "duration": 52,
    "start_time": "2023-04-05T16:14:17.700Z"
   },
   {
    "duration": 579,
    "start_time": "2023-04-05T16:14:25.534Z"
   },
   {
    "duration": 33,
    "start_time": "2023-04-05T16:14:26.116Z"
   },
   {
    "duration": 17,
    "start_time": "2023-04-05T16:14:26.273Z"
   },
   {
    "duration": 11,
    "start_time": "2023-04-05T16:14:26.996Z"
   },
   {
    "duration": 52,
    "start_time": "2023-04-05T16:14:27.359Z"
   },
   {
    "duration": 4,
    "start_time": "2023-04-05T16:14:27.914Z"
   },
   {
    "duration": 8,
    "start_time": "2023-04-05T16:14:28.251Z"
   },
   {
    "duration": 5,
    "start_time": "2023-04-05T16:14:28.796Z"
   },
   {
    "duration": 7,
    "start_time": "2023-04-05T16:14:29.172Z"
   },
   {
    "duration": 5,
    "start_time": "2023-04-05T16:14:29.562Z"
   },
   {
    "duration": 36,
    "start_time": "2023-04-05T16:14:30.179Z"
   },
   {
    "duration": 13,
    "start_time": "2023-04-05T16:14:30.554Z"
   },
   {
    "duration": 4,
    "start_time": "2023-04-05T16:14:31.098Z"
   },
   {
    "duration": 12,
    "start_time": "2023-04-05T16:14:31.644Z"
   },
   {
    "duration": 21,
    "start_time": "2023-04-05T16:14:32.025Z"
   },
   {
    "duration": 18,
    "start_time": "2023-04-05T16:14:32.243Z"
   },
   {
    "duration": 3,
    "start_time": "2023-04-05T16:14:32.842Z"
   },
   {
    "duration": 11,
    "start_time": "2023-04-05T16:14:33.079Z"
   },
   {
    "duration": 11,
    "start_time": "2023-04-05T16:14:33.461Z"
   },
   {
    "duration": 4,
    "start_time": "2023-04-05T16:14:33.843Z"
   },
   {
    "duration": 10,
    "start_time": "2023-04-05T16:14:34.017Z"
   },
   {
    "duration": 29,
    "start_time": "2023-04-05T16:14:34.829Z"
   },
   {
    "duration": 10,
    "start_time": "2023-04-05T16:14:35.010Z"
   },
   {
    "duration": 7,
    "start_time": "2023-04-05T16:14:37.242Z"
   },
   {
    "duration": 8,
    "start_time": "2023-04-05T16:14:37.468Z"
   },
   {
    "duration": 26,
    "start_time": "2023-04-05T16:14:37.668Z"
   },
   {
    "duration": 9,
    "start_time": "2023-04-05T16:14:37.867Z"
   },
   {
    "duration": 8,
    "start_time": "2023-04-05T16:14:39.097Z"
   },
   {
    "duration": 9,
    "start_time": "2023-04-05T16:14:39.489Z"
   },
   {
    "duration": 239,
    "start_time": "2023-04-05T16:14:39.739Z"
   },
   {
    "duration": 0,
    "start_time": "2023-04-05T16:14:39.979Z"
   },
   {
    "duration": 10,
    "start_time": "2023-04-05T16:14:59.938Z"
   },
   {
    "duration": 8,
    "start_time": "2023-04-05T16:15:03.335Z"
   },
   {
    "duration": 11,
    "start_time": "2023-04-05T16:15:13.225Z"
   },
   {
    "duration": 8,
    "start_time": "2023-04-05T16:15:14.536Z"
   },
   {
    "duration": 49,
    "start_time": "2023-04-05T16:15:41.306Z"
   },
   {
    "duration": 11,
    "start_time": "2023-04-05T16:15:47.457Z"
   },
   {
    "duration": 10,
    "start_time": "2023-04-05T16:15:56.746Z"
   },
   {
    "duration": 8,
    "start_time": "2023-04-05T16:15:58.514Z"
   },
   {
    "duration": 25,
    "start_time": "2023-04-05T16:16:24.460Z"
   }
  ],
  "colab": {
   "provenance": []
  },
  "kernelspec": {
   "display_name": "Python 3 (ipykernel)",
   "language": "python",
   "name": "python3"
  },
  "language_info": {
   "codemirror_mode": {
    "name": "ipython",
    "version": 3
   },
   "file_extension": ".py",
   "mimetype": "text/x-python",
   "name": "python",
   "nbconvert_exporter": "python",
   "pygments_lexer": "ipython3",
   "version": "3.9.5"
  },
  "toc": {
   "base_numbering": 1,
   "nav_menu": {},
   "number_sections": true,
   "sideBar": true,
   "skip_h1_title": true,
   "title_cell": "Table of Contents",
   "title_sidebar": "Contents",
   "toc_cell": false,
   "toc_position": {},
   "toc_section_display": true,
   "toc_window_display": false
  }
 },
 "nbformat": 4,
 "nbformat_minor": 5
}
